{
 "cells": [
  {
   "cell_type": "markdown",
   "metadata": {},
   "source": [
    "# <center> Prediction of life time value of customer </center>\n",
    "\n",
    "The datasets has been provided to us via INSOFE's SCT portal.\n",
    "\n",
    "Forecasting is an important approach to take an optimal decision and implement appropriate action plans. A major non-life insurance company wants to evaluate customer life time value based on each customer’s demographics and policy information including claim details. The CLV is a profitability metric in terms of a value placed by the company on each customer and can be conceived in two dimensions: the customer's present Value and potential future Value.\n",
    "\n",
    "**Customer lifetime value (CLV)** is one of the key stats likely to be tracked as part of a customer experience program. CLV is a measurement of *how valuable a customer is to your company* with an unlimited time span as opposed to just the first purchase. \n",
    "\n",
    "Ref : https://www.qualtrics.com/experience-management/customer/customer-lifetime-value/\n",
    "\n",
    "This metric helps you understand a reasonable cost per acquisition.\n",
    "\n",
    "Our target is to predict the **life time value of customer.**"
   ]
  },
  {
   "cell_type": "markdown",
   "metadata": {},
   "source": [
    "### Importing the necessary libraries"
   ]
  },
  {
   "cell_type": "code",
   "execution_count": 1,
   "metadata": {},
   "outputs": [],
   "source": [
    "import numpy as np\n",
    "import pandas as pd\n",
    "import os\n",
    "\n",
    "# Visualization\n",
    "import matplotlib as plt\n",
    "import matplotlib.pyplot as plt\n",
    "import seaborn as sns\n",
    "\n",
    "# Skipping Warnings\n",
    "import warnings\n",
    "import warnings\n",
    "warnings.filterwarnings('ignore')\n",
    "warnings.filterwarnings(action = 'ignore', category = DeprecationWarning)\n",
    "warnings.filterwarnings(action = 'ignore', category = FutureWarning)"
   ]
  },
  {
   "cell_type": "code",
   "execution_count": 2,
   "metadata": {},
   "outputs": [],
   "source": [
    "pd.set_option('display.max_rows', 500)\n",
    "pd.set_option('display.max_columns', 500)\n",
    "pd.set_option('display.width', 1000)"
   ]
  },
  {
   "cell_type": "code",
   "execution_count": 3,
   "metadata": {},
   "outputs": [
    {
     "data": {
      "text/plain": [
       "'C:\\\\Neeraj\\\\acads\\\\INSOFE\\\\STUDY MATERIAL\\\\MiTH'"
      ]
     },
     "execution_count": 3,
     "metadata": {},
     "output_type": "execute_result"
    }
   ],
   "source": [
    "os.getcwd()"
   ]
  },
  {
   "cell_type": "code",
   "execution_count": 2,
   "metadata": {},
   "outputs": [],
   "source": [
    "train = pd.read_csv('C:\\\\Neeraj\\\\acads\\\\INSOFE\\\\STUDY MATERIAL\\\\MiTH\\\\train-1574429526318.csv', \n",
    "                    index_col = 0, na_values = '?')\n",
    "\n",
    "main_test =pd.read_csv('C:\\\\Neeraj\\\\acads\\\\INSOFE\\\\STUDY MATERIAL\\\\MiTH\\\\test-1574429501088.csv', \n",
    "                    index_col = 0, na_values = '?')"
   ]
  },
  {
   "cell_type": "markdown",
   "metadata": {},
   "source": [
    "The `train` dataset set will help us train and validate our models.\n",
    "\n",
    "The `main_test` dataset is where we will actually make our predictions."
   ]
  },
  {
   "cell_type": "code",
   "execution_count": 5,
   "metadata": {},
   "outputs": [
    {
     "data": {
      "text/plain": [
       "(9806, 21)"
      ]
     },
     "execution_count": 5,
     "metadata": {},
     "output_type": "execute_result"
    }
   ],
   "source": [
    "train.shape"
   ]
  },
  {
   "cell_type": "markdown",
   "metadata": {},
   "source": [
    "## Exploratory Data Analysis"
   ]
  },
  {
   "cell_type": "markdown",
   "metadata": {},
   "source": [
    "An EDA is a thorough examination meant to uncover the underlying structure of a data set and is important for a company because it exposes trends, patterns, and relationships that are not readily apparent.\n",
    "\n",
    "Ref: https://www.datadecisionsgroup.com/blog/bid/176827/a-closer-look-at-exploratory-data-analysis-what-and-why"
   ]
  },
  {
   "attachments": {
    "EDA.png": {
     "image/png": "[encoded data removed]"
    }
   },
   "cell_type": "markdown",
   "metadata": {},
   "source": [
    "EDA unvolves four main steps:\n",
    "- Data Collection\n",
    "- Data Cleaning\n",
    "- Data Preprocessing\n",
    "- Visualization\n",
    "\n",
    "![EDA.png](attachment:EDA.png)\n",
    "\n",
    "\n",
    "\n",
    "We will be going through all the steps as we progress."
   ]
  },
  {
   "cell_type": "code",
   "execution_count": 6,
   "metadata": {
    "scrolled": false
   },
   "outputs": [
    {
     "data": {
      "text/html": [
       "<div>\n",
       "<style scoped>\n",
       "    .dataframe tbody tr th:only-of-type {\n",
       "        vertical-align: middle;\n",
       "    }\n",
       "\n",
       "    .dataframe tbody tr th {\n",
       "        vertical-align: top;\n",
       "    }\n",
       "\n",
       "    .dataframe thead th {\n",
       "        text-align: right;\n",
       "    }\n",
       "</style>\n",
       "<table border=\"1\" class=\"dataframe\">\n",
       "  <thead>\n",
       "    <tr style=\"text-align: right;\">\n",
       "      <th></th>\n",
       "      <th>Customer.Lifetime.Value</th>\n",
       "      <th>Coverage</th>\n",
       "      <th>Education</th>\n",
       "      <th>EmploymentStatus</th>\n",
       "      <th>Gender</th>\n",
       "      <th>Income</th>\n",
       "      <th>Location.Geo</th>\n",
       "      <th>Location.Code</th>\n",
       "      <th>Marital.Status</th>\n",
       "      <th>Monthly.Premium.Auto</th>\n",
       "      <th>Months.Since.Last.Claim</th>\n",
       "      <th>Months.Since.Policy.Inception</th>\n",
       "      <th>Number.of.Open.Complaints</th>\n",
       "      <th>Number.of.Policies</th>\n",
       "      <th>Policy.Type</th>\n",
       "      <th>Policy</th>\n",
       "      <th>Renew.Offer.Type</th>\n",
       "      <th>Sales.Channel</th>\n",
       "      <th>Total.Claim.Amount</th>\n",
       "      <th>Vehicle.Class</th>\n",
       "      <th>Vehicle.Size</th>\n",
       "    </tr>\n",
       "  </thead>\n",
       "  <tbody>\n",
       "    <tr>\n",
       "      <td>count</td>\n",
       "      <td>9806.000000</td>\n",
       "      <td>8881</td>\n",
       "      <td>9677</td>\n",
       "      <td>9688</td>\n",
       "      <td>9677</td>\n",
       "      <td>9688.000000</td>\n",
       "      <td>9806</td>\n",
       "      <td>9687</td>\n",
       "      <td>9677</td>\n",
       "      <td>9012.000000</td>\n",
       "      <td>9806.000000</td>\n",
       "      <td>9806.000000</td>\n",
       "      <td>8988.000000</td>\n",
       "      <td>9685.000000</td>\n",
       "      <td>8915</td>\n",
       "      <td>9685</td>\n",
       "      <td>9678</td>\n",
       "      <td>9678</td>\n",
       "      <td>9806.000000</td>\n",
       "      <td>9680</td>\n",
       "      <td>9680.000000</td>\n",
       "    </tr>\n",
       "    <tr>\n",
       "      <td>unique</td>\n",
       "      <td>NaN</td>\n",
       "      <td>3</td>\n",
       "      <td>5</td>\n",
       "      <td>5</td>\n",
       "      <td>2</td>\n",
       "      <td>NaN</td>\n",
       "      <td>2840</td>\n",
       "      <td>3</td>\n",
       "      <td>3</td>\n",
       "      <td>NaN</td>\n",
       "      <td>NaN</td>\n",
       "      <td>NaN</td>\n",
       "      <td>NaN</td>\n",
       "      <td>NaN</td>\n",
       "      <td>3</td>\n",
       "      <td>9</td>\n",
       "      <td>4</td>\n",
       "      <td>4</td>\n",
       "      <td>NaN</td>\n",
       "      <td>6</td>\n",
       "      <td>NaN</td>\n",
       "    </tr>\n",
       "    <tr>\n",
       "      <td>top</td>\n",
       "      <td>NaN</td>\n",
       "      <td>Basic</td>\n",
       "      <td>Bachelor</td>\n",
       "      <td>Employed</td>\n",
       "      <td>F</td>\n",
       "      <td>NaN</td>\n",
       "      <td>NA,NA</td>\n",
       "      <td>Suburban</td>\n",
       "      <td>Married</td>\n",
       "      <td>NaN</td>\n",
       "      <td>NaN</td>\n",
       "      <td>NaN</td>\n",
       "      <td>NaN</td>\n",
       "      <td>NaN</td>\n",
       "      <td>Personal Auto</td>\n",
       "      <td>Personal L3</td>\n",
       "      <td>Offer1</td>\n",
       "      <td>Agent</td>\n",
       "      <td>NaN</td>\n",
       "      <td>Four-Door Car</td>\n",
       "      <td>NaN</td>\n",
       "    </tr>\n",
       "    <tr>\n",
       "      <td>freq</td>\n",
       "      <td>NaN</td>\n",
       "      <td>5361</td>\n",
       "      <td>2934</td>\n",
       "      <td>6020</td>\n",
       "      <td>4985</td>\n",
       "      <td>NaN</td>\n",
       "      <td>119</td>\n",
       "      <td>6204</td>\n",
       "      <td>5643</td>\n",
       "      <td>NaN</td>\n",
       "      <td>NaN</td>\n",
       "      <td>NaN</td>\n",
       "      <td>NaN</td>\n",
       "      <td>NaN</td>\n",
       "      <td>6620</td>\n",
       "      <td>3637</td>\n",
       "      <td>3975</td>\n",
       "      <td>3670</td>\n",
       "      <td>NaN</td>\n",
       "      <td>4869</td>\n",
       "      <td>NaN</td>\n",
       "    </tr>\n",
       "    <tr>\n",
       "      <td>mean</td>\n",
       "      <td>7998.047015</td>\n",
       "      <td>NaN</td>\n",
       "      <td>NaN</td>\n",
       "      <td>NaN</td>\n",
       "      <td>NaN</td>\n",
       "      <td>37511.054604</td>\n",
       "      <td>NaN</td>\n",
       "      <td>NaN</td>\n",
       "      <td>NaN</td>\n",
       "      <td>93.340657</td>\n",
       "      <td>15.143993</td>\n",
       "      <td>48.165001</td>\n",
       "      <td>0.379172</td>\n",
       "      <td>2.960351</td>\n",
       "      <td>NaN</td>\n",
       "      <td>NaN</td>\n",
       "      <td>NaN</td>\n",
       "      <td>NaN</td>\n",
       "      <td>438.266734</td>\n",
       "      <td>NaN</td>\n",
       "      <td>2.089773</td>\n",
       "    </tr>\n",
       "    <tr>\n",
       "      <td>std</td>\n",
       "      <td>6848.055899</td>\n",
       "      <td>NaN</td>\n",
       "      <td>NaN</td>\n",
       "      <td>NaN</td>\n",
       "      <td>NaN</td>\n",
       "      <td>30292.974468</td>\n",
       "      <td>NaN</td>\n",
       "      <td>NaN</td>\n",
       "      <td>NaN</td>\n",
       "      <td>34.417763</td>\n",
       "      <td>10.004327</td>\n",
       "      <td>27.963630</td>\n",
       "      <td>0.896427</td>\n",
       "      <td>2.389801</td>\n",
       "      <td>NaN</td>\n",
       "      <td>NaN</td>\n",
       "      <td>NaN</td>\n",
       "      <td>NaN</td>\n",
       "      <td>293.502301</td>\n",
       "      <td>NaN</td>\n",
       "      <td>0.538524</td>\n",
       "    </tr>\n",
       "    <tr>\n",
       "      <td>min</td>\n",
       "      <td>1898.007675</td>\n",
       "      <td>NaN</td>\n",
       "      <td>NaN</td>\n",
       "      <td>NaN</td>\n",
       "      <td>NaN</td>\n",
       "      <td>0.000000</td>\n",
       "      <td>NaN</td>\n",
       "      <td>NaN</td>\n",
       "      <td>NaN</td>\n",
       "      <td>61.000000</td>\n",
       "      <td>0.000000</td>\n",
       "      <td>0.000000</td>\n",
       "      <td>0.000000</td>\n",
       "      <td>1.000000</td>\n",
       "      <td>NaN</td>\n",
       "      <td>NaN</td>\n",
       "      <td>NaN</td>\n",
       "      <td>NaN</td>\n",
       "      <td>0.099007</td>\n",
       "      <td>NaN</td>\n",
       "      <td>1.000000</td>\n",
       "    </tr>\n",
       "    <tr>\n",
       "      <td>25%</td>\n",
       "      <td>4013.949039</td>\n",
       "      <td>NaN</td>\n",
       "      <td>NaN</td>\n",
       "      <td>NaN</td>\n",
       "      <td>NaN</td>\n",
       "      <td>0.000000</td>\n",
       "      <td>NaN</td>\n",
       "      <td>NaN</td>\n",
       "      <td>NaN</td>\n",
       "      <td>68.750000</td>\n",
       "      <td>6.000000</td>\n",
       "      <td>24.000000</td>\n",
       "      <td>0.000000</td>\n",
       "      <td>1.000000</td>\n",
       "      <td>NaN</td>\n",
       "      <td>NaN</td>\n",
       "      <td>NaN</td>\n",
       "      <td>NaN</td>\n",
       "      <td>280.352767</td>\n",
       "      <td>NaN</td>\n",
       "      <td>2.000000</td>\n",
       "    </tr>\n",
       "    <tr>\n",
       "      <td>50%</td>\n",
       "      <td>5780.182197</td>\n",
       "      <td>NaN</td>\n",
       "      <td>NaN</td>\n",
       "      <td>NaN</td>\n",
       "      <td>NaN</td>\n",
       "      <td>33767.500000</td>\n",
       "      <td>NaN</td>\n",
       "      <td>NaN</td>\n",
       "      <td>NaN</td>\n",
       "      <td>83.000000</td>\n",
       "      <td>14.000000</td>\n",
       "      <td>48.000000</td>\n",
       "      <td>0.000000</td>\n",
       "      <td>2.000000</td>\n",
       "      <td>NaN</td>\n",
       "      <td>NaN</td>\n",
       "      <td>NaN</td>\n",
       "      <td>NaN</td>\n",
       "      <td>384.007015</td>\n",
       "      <td>NaN</td>\n",
       "      <td>2.000000</td>\n",
       "    </tr>\n",
       "    <tr>\n",
       "      <td>75%</td>\n",
       "      <td>8960.280213</td>\n",
       "      <td>NaN</td>\n",
       "      <td>NaN</td>\n",
       "      <td>NaN</td>\n",
       "      <td>NaN</td>\n",
       "      <td>62018.000000</td>\n",
       "      <td>NaN</td>\n",
       "      <td>NaN</td>\n",
       "      <td>NaN</td>\n",
       "      <td>109.000000</td>\n",
       "      <td>23.000000</td>\n",
       "      <td>71.750000</td>\n",
       "      <td>0.000000</td>\n",
       "      <td>4.000000</td>\n",
       "      <td>NaN</td>\n",
       "      <td>NaN</td>\n",
       "      <td>NaN</td>\n",
       "      <td>NaN</td>\n",
       "      <td>553.540973</td>\n",
       "      <td>NaN</td>\n",
       "      <td>2.000000</td>\n",
       "    </tr>\n",
       "    <tr>\n",
       "      <td>max</td>\n",
       "      <td>83325.381190</td>\n",
       "      <td>NaN</td>\n",
       "      <td>NaN</td>\n",
       "      <td>NaN</td>\n",
       "      <td>NaN</td>\n",
       "      <td>99981.000000</td>\n",
       "      <td>NaN</td>\n",
       "      <td>NaN</td>\n",
       "      <td>NaN</td>\n",
       "      <td>297.000000</td>\n",
       "      <td>35.000000</td>\n",
       "      <td>99.000000</td>\n",
       "      <td>5.000000</td>\n",
       "      <td>9.000000</td>\n",
       "      <td>NaN</td>\n",
       "      <td>NaN</td>\n",
       "      <td>NaN</td>\n",
       "      <td>NaN</td>\n",
       "      <td>2893.239678</td>\n",
       "      <td>NaN</td>\n",
       "      <td>3.000000</td>\n",
       "    </tr>\n",
       "  </tbody>\n",
       "</table>\n",
       "</div>"
      ],
      "text/plain": [
       "        Customer.Lifetime.Value Coverage Education EmploymentStatus Gender        Income Location.Geo Location.Code Marital.Status  Monthly.Premium.Auto  Months.Since.Last.Claim  Months.Since.Policy.Inception  Number.of.Open.Complaints  Number.of.Policies    Policy.Type       Policy Renew.Offer.Type Sales.Channel  Total.Claim.Amount  Vehicle.Class  Vehicle.Size\n",
       "count               9806.000000     8881      9677             9688   9677   9688.000000         9806          9687           9677           9012.000000              9806.000000                    9806.000000                8988.000000         9685.000000           8915         9685             9678          9678         9806.000000           9680   9680.000000\n",
       "unique                      NaN        3         5                5      2           NaN         2840             3              3                   NaN                      NaN                            NaN                        NaN                 NaN              3            9                4             4                 NaN              6           NaN\n",
       "top                         NaN    Basic  Bachelor         Employed      F           NaN        NA,NA      Suburban        Married                   NaN                      NaN                            NaN                        NaN                 NaN  Personal Auto  Personal L3           Offer1         Agent                 NaN  Four-Door Car           NaN\n",
       "freq                        NaN     5361      2934             6020   4985           NaN          119          6204           5643                   NaN                      NaN                            NaN                        NaN                 NaN           6620         3637             3975          3670                 NaN           4869           NaN\n",
       "mean                7998.047015      NaN       NaN              NaN    NaN  37511.054604          NaN           NaN            NaN             93.340657                15.143993                      48.165001                   0.379172            2.960351            NaN          NaN              NaN           NaN          438.266734            NaN      2.089773\n",
       "std                 6848.055899      NaN       NaN              NaN    NaN  30292.974468          NaN           NaN            NaN             34.417763                10.004327                      27.963630                   0.896427            2.389801            NaN          NaN              NaN           NaN          293.502301            NaN      0.538524\n",
       "min                 1898.007675      NaN       NaN              NaN    NaN      0.000000          NaN           NaN            NaN             61.000000                 0.000000                       0.000000                   0.000000            1.000000            NaN          NaN              NaN           NaN            0.099007            NaN      1.000000\n",
       "25%                 4013.949039      NaN       NaN              NaN    NaN      0.000000          NaN           NaN            NaN             68.750000                 6.000000                      24.000000                   0.000000            1.000000            NaN          NaN              NaN           NaN          280.352767            NaN      2.000000\n",
       "50%                 5780.182197      NaN       NaN              NaN    NaN  33767.500000          NaN           NaN            NaN             83.000000                14.000000                      48.000000                   0.000000            2.000000            NaN          NaN              NaN           NaN          384.007015            NaN      2.000000\n",
       "75%                 8960.280213      NaN       NaN              NaN    NaN  62018.000000          NaN           NaN            NaN            109.000000                23.000000                      71.750000                   0.000000            4.000000            NaN          NaN              NaN           NaN          553.540973            NaN      2.000000\n",
       "max                83325.381190      NaN       NaN              NaN    NaN  99981.000000          NaN           NaN            NaN            297.000000                35.000000                      99.000000                   5.000000            9.000000            NaN          NaN              NaN           NaN         2893.239678            NaN      3.000000"
      ]
     },
     "execution_count": 6,
     "metadata": {},
     "output_type": "execute_result"
    }
   ],
   "source": [
    "train.describe(include='all')"
   ]
  },
  {
   "cell_type": "markdown",
   "metadata": {},
   "source": [
    "We can see that `Location.Geo` are cardinal values and has unique values. Hence, we can drop this feature."
   ]
  },
  {
   "cell_type": "code",
   "execution_count": 3,
   "metadata": {},
   "outputs": [],
   "source": [
    "train = train.drop('Location.Geo', axis = 1)\n",
    "main_test = main_test.drop('Location.Geo', axis = 1)"
   ]
  },
  {
   "cell_type": "code",
   "execution_count": 8,
   "metadata": {},
   "outputs": [
    {
     "name": "stdout",
     "output_type": "stream",
     "text": [
      "<class 'pandas.core.frame.DataFrame'>\n",
      "Int64Index: 9806 entries, 5917 to 11323\n",
      "Data columns (total 20 columns):\n",
      "Customer.Lifetime.Value          9806 non-null float64\n",
      "Coverage                         8881 non-null object\n",
      "Education                        9677 non-null object\n",
      "EmploymentStatus                 9688 non-null object\n",
      "Gender                           9677 non-null object\n",
      "Income                           9688 non-null float64\n",
      "Location.Code                    9687 non-null object\n",
      "Marital.Status                   9677 non-null object\n",
      "Monthly.Premium.Auto             9012 non-null float64\n",
      "Months.Since.Last.Claim          9806 non-null int64\n",
      "Months.Since.Policy.Inception    9806 non-null int64\n",
      "Number.of.Open.Complaints        8988 non-null float64\n",
      "Number.of.Policies               9685 non-null float64\n",
      "Policy.Type                      8915 non-null object\n",
      "Policy                           9685 non-null object\n",
      "Renew.Offer.Type                 9678 non-null object\n",
      "Sales.Channel                    9678 non-null object\n",
      "Total.Claim.Amount               9806 non-null float64\n",
      "Vehicle.Class                    9680 non-null object\n",
      "Vehicle.Size                     9680 non-null float64\n",
      "dtypes: float64(7), int64(2), object(11)\n",
      "memory usage: 1.6+ MB\n"
     ]
    }
   ],
   "source": [
    "train.info()"
   ]
  },
  {
   "cell_type": "code",
   "execution_count": 9,
   "metadata": {},
   "outputs": [
    {
     "data": {
      "text/plain": [
       "Customer.Lifetime.Value            0\n",
       "Coverage                         925\n",
       "Education                        129\n",
       "EmploymentStatus                 118\n",
       "Gender                           129\n",
       "Income                           118\n",
       "Location.Code                    119\n",
       "Marital.Status                   129\n",
       "Monthly.Premium.Auto             794\n",
       "Months.Since.Last.Claim            0\n",
       "Months.Since.Policy.Inception      0\n",
       "Number.of.Open.Complaints        818\n",
       "Number.of.Policies               121\n",
       "Policy.Type                      891\n",
       "Policy                           121\n",
       "Renew.Offer.Type                 128\n",
       "Sales.Channel                    128\n",
       "Total.Claim.Amount                 0\n",
       "Vehicle.Class                    126\n",
       "Vehicle.Size                     126\n",
       "dtype: int64"
      ]
     },
     "execution_count": 9,
     "metadata": {},
     "output_type": "execute_result"
    }
   ],
   "source": [
    "train.isna().sum()"
   ]
  },
  {
   "cell_type": "markdown",
   "metadata": {},
   "source": [
    "We can see a lot of missing values. Let us verify this in the further steps and take necessary actions, if needed."
   ]
  },
  {
   "cell_type": "markdown",
   "metadata": {},
   "source": [
    "### Separating the `categorical features` and `numerical features`"
   ]
  },
  {
   "cell_type": "code",
   "execution_count": 4,
   "metadata": {},
   "outputs": [],
   "source": [
    "# Categorical features\n",
    "cat_cols = ['Coverage','Education','EmploymentStatus','Gender','Location.Code','Marital.Status',\n",
    "            'Number.of.Open.Complaints','Number.of.Policies','Policy.Type','Policy',\n",
    "            'Renew.Offer.Type','Sales.Channel','Vehicle.Class','Vehicle.Size','Months.Since.Last.Claim',\n",
    "           'Months.Since.Policy.Inception']\n",
    "\n",
    "# Categorical features\n",
    "num_cols = ['Customer.Lifetime.Value','Monthly.Premium.Auto','Income','Total.Claim.Amount']\n",
    "\n",
    "# Removing the target variable from the 'num_cols' list\n",
    "del num_cols[0]\n"
   ]
  },
  {
   "cell_type": "markdown",
   "metadata": {},
   "source": [
    "### Let us check the unique values present in the `categorical features`\n",
    "\n",
    "This step displays the unique values present in the dataset."
   ]
  },
  {
   "cell_type": "code",
   "execution_count": 11,
   "metadata": {
    "scrolled": true
   },
   "outputs": [
    {
     "name": "stdout",
     "output_type": "stream",
     "text": [
      "Coverage --> ['Basic' 'Extended' nan 'Premium'] \n",
      "\n",
      "Education --> ['Bachelor' 'College' 'High School or Below' 'Doctor' nan 'Master'] \n",
      "\n",
      "EmploymentStatus --> ['Unemployed' 'Employed' 'Retired' 'Medical Leave' 'Disabled' nan] \n",
      "\n",
      "Gender --> ['F' 'M' nan] \n",
      "\n",
      "Location.Code --> ['Urban' 'Suburban' 'Rural' nan] \n",
      "\n",
      "Marital.Status --> ['Married' 'Divorced' 'Single' nan] \n",
      "\n",
      "Number.of.Open.Complaints --> [nan  0.  1.  2.  3.  5.  4.] \n",
      "\n",
      "Number.of.Policies --> [ 2.  5.  3.  6.  1.  9.  8. nan  7.  4.] \n",
      "\n",
      "Policy.Type --> ['Personal Auto' 'Corporate Auto' 'Special Auto' nan] \n",
      "\n",
      "Policy --> ['Personal L2' 'Personal L1' 'Corporate L3' 'Special L2' 'Personal L3'\n",
      " 'Corporate L1' 'Corporate L2' nan 'Special L3' 'Special L1'] \n",
      "\n",
      "Renew.Offer.Type --> ['Offer2' 'Offer1' 'Offer3' nan 'Offer4'] \n",
      "\n",
      "Sales.Channel --> ['Branch' 'Agent' 'Web' 'Call Center' nan] \n",
      "\n",
      "Vehicle.Class --> ['Four-Door Car' 'SUV' 'Two-Door Car' 'Luxury SUV' 'Sports Car'\n",
      " 'Luxury Car' nan] \n",
      "\n",
      "Vehicle.Size --> [ 2.  1.  3. nan] \n",
      "\n",
      "Months.Since.Last.Claim --> [ 2 26  3 30 14 10  6 17 13  4  8 16 29 24 28 27  1 12 32 18  0  7 20 34\n",
      " 33 11 21 15 25 31 22  5 35 19 23  9] \n",
      "\n",
      "Months.Since.Policy.Inception --> [33 42 44 15 68 13 76 50 62 41 21 51 61 90 35 52  4 86 99 28 29 46 56 48\n",
      " 27 14 66 63  5 95 69 85 88  0 87 30 43 77 47 58 74 75  8 91 55 38 36 78\n",
      "  6 94 31 70 82 20 45 18 73 17 54 65 16 72 81 59 71 89  3 96  1 23 83  2\n",
      "  7 19 80 97  9 57 26 92 79 53 32 34 25 60 39 84 49 12 93 40 10 11 22 98\n",
      " 67 24 37 64] \n",
      "\n"
     ]
    }
   ],
   "source": [
    "for i in cat_cols:\n",
    "    print(i,'-->', train[i].unique(),'\\n')"
   ]
  },
  {
   "cell_type": "markdown",
   "metadata": {},
   "source": [
    "We can see there are `NaN` values in the few categorical features. However, by seeing the unique values in each feature, the `NaN` values are not null values, but signifies that the particular field in **NOT APPLICABLE** for that customer.\n",
    "\n",
    "Hence, we will modify these values to `None`."
   ]
  },
  {
   "cell_type": "code",
   "execution_count": 5,
   "metadata": {},
   "outputs": [],
   "source": [
    "cat_none_cols = ['Coverage','Education','EmploymentStatus', 'Number.of.Open.Complaints',\n",
    "                 'Number.of.Policies','Policy.Type','Policy','Renew.Offer.Type',\n",
    "                 'Sales.Channel','Vehicle.Class','Vehicle.Size']\n",
    "\n",
    "for col in cat_none_cols:\n",
    "    train[col] = train[col].fillna('None')\n",
    "    main_test[col] = main_test[col].fillna('None')"
   ]
  },
  {
   "cell_type": "markdown",
   "metadata": {},
   "source": [
    "<div class=\"alert alert-block alert-info\"><b> \n",
    "\n",
    " - We will make sure that the pre-processing steps are applied to the training-validation dataset should also be applied on the testing set\n",
    "\n",
    "</b></div>"
   ]
  },
  {
   "cell_type": "code",
   "execution_count": 13,
   "metadata": {},
   "outputs": [
    {
     "data": {
      "text/html": [
       "<div>\n",
       "<style scoped>\n",
       "    .dataframe tbody tr th:only-of-type {\n",
       "        vertical-align: middle;\n",
       "    }\n",
       "\n",
       "    .dataframe tbody tr th {\n",
       "        vertical-align: top;\n",
       "    }\n",
       "\n",
       "    .dataframe thead th {\n",
       "        text-align: right;\n",
       "    }\n",
       "</style>\n",
       "<table border=\"1\" class=\"dataframe\">\n",
       "  <thead>\n",
       "    <tr style=\"text-align: right;\">\n",
       "      <th></th>\n",
       "      <th>Coverage</th>\n",
       "      <th>Education</th>\n",
       "      <th>EmploymentStatus</th>\n",
       "      <th>Gender</th>\n",
       "      <th>Location.Code</th>\n",
       "      <th>Marital.Status</th>\n",
       "      <th>Number.of.Open.Complaints</th>\n",
       "      <th>Number.of.Policies</th>\n",
       "      <th>Policy.Type</th>\n",
       "      <th>Policy</th>\n",
       "      <th>Renew.Offer.Type</th>\n",
       "      <th>Sales.Channel</th>\n",
       "      <th>Vehicle.Class</th>\n",
       "      <th>Vehicle.Size</th>\n",
       "      <th>Months.Since.Last.Claim</th>\n",
       "      <th>Months.Since.Policy.Inception</th>\n",
       "    </tr>\n",
       "  </thead>\n",
       "  <tbody>\n",
       "    <tr>\n",
       "      <td>count</td>\n",
       "      <td>9806</td>\n",
       "      <td>9806</td>\n",
       "      <td>9806</td>\n",
       "      <td>9677</td>\n",
       "      <td>9687</td>\n",
       "      <td>9677</td>\n",
       "      <td>9806.0</td>\n",
       "      <td>9806.0</td>\n",
       "      <td>9806</td>\n",
       "      <td>9806</td>\n",
       "      <td>9806</td>\n",
       "      <td>9806</td>\n",
       "      <td>9806</td>\n",
       "      <td>9806.0</td>\n",
       "      <td>9806</td>\n",
       "      <td>9806</td>\n",
       "    </tr>\n",
       "    <tr>\n",
       "      <td>unique</td>\n",
       "      <td>4</td>\n",
       "      <td>6</td>\n",
       "      <td>6</td>\n",
       "      <td>2</td>\n",
       "      <td>3</td>\n",
       "      <td>3</td>\n",
       "      <td>7.0</td>\n",
       "      <td>10.0</td>\n",
       "      <td>4</td>\n",
       "      <td>10</td>\n",
       "      <td>5</td>\n",
       "      <td>5</td>\n",
       "      <td>7</td>\n",
       "      <td>4.0</td>\n",
       "      <td>36</td>\n",
       "      <td>100</td>\n",
       "    </tr>\n",
       "    <tr>\n",
       "      <td>top</td>\n",
       "      <td>Basic</td>\n",
       "      <td>Bachelor</td>\n",
       "      <td>Employed</td>\n",
       "      <td>F</td>\n",
       "      <td>Suburban</td>\n",
       "      <td>Married</td>\n",
       "      <td>0.0</td>\n",
       "      <td>1.0</td>\n",
       "      <td>Personal Auto</td>\n",
       "      <td>Personal L3</td>\n",
       "      <td>Offer1</td>\n",
       "      <td>Agent</td>\n",
       "      <td>Four-Door Car</td>\n",
       "      <td>2.0</td>\n",
       "      <td>3</td>\n",
       "      <td>59</td>\n",
       "    </tr>\n",
       "    <tr>\n",
       "      <td>freq</td>\n",
       "      <td>5361</td>\n",
       "      <td>2934</td>\n",
       "      <td>6020</td>\n",
       "      <td>4985</td>\n",
       "      <td>6204</td>\n",
       "      <td>5643</td>\n",
       "      <td>7130.0</td>\n",
       "      <td>3459.0</td>\n",
       "      <td>6620</td>\n",
       "      <td>3637</td>\n",
       "      <td>3975</td>\n",
       "      <td>3670</td>\n",
       "      <td>4869</td>\n",
       "      <td>6795.0</td>\n",
       "      <td>405</td>\n",
       "      <td>156</td>\n",
       "    </tr>\n",
       "  </tbody>\n",
       "</table>\n",
       "</div>"
      ],
      "text/plain": [
       "       Coverage Education EmploymentStatus Gender Location.Code Marital.Status  Number.of.Open.Complaints  Number.of.Policies    Policy.Type       Policy Renew.Offer.Type Sales.Channel  Vehicle.Class  Vehicle.Size  Months.Since.Last.Claim  Months.Since.Policy.Inception\n",
       "count      9806      9806             9806   9677          9687           9677                     9806.0              9806.0           9806         9806             9806          9806           9806        9806.0                     9806                           9806\n",
       "unique        4         6                6      2             3              3                        7.0                10.0              4           10                5             5              7           4.0                       36                            100\n",
       "top       Basic  Bachelor         Employed      F      Suburban        Married                        0.0                 1.0  Personal Auto  Personal L3           Offer1         Agent  Four-Door Car           2.0                        3                             59\n",
       "freq       5361      2934             6020   4985          6204           5643                     7130.0              3459.0           6620         3637             3975          3670           4869        6795.0                      405                            156"
      ]
     },
     "execution_count": 13,
     "metadata": {},
     "output_type": "execute_result"
    }
   ],
   "source": [
    "train[cat_cols].astype('category').describe()"
   ]
  },
  {
   "cell_type": "markdown",
   "metadata": {},
   "source": [
    "In the previous steps, `EmploymentStatus` had 5 levels. After the `.fillna()` operation, the levels has increased to 6.\n",
    "\n",
    "Hence, we have successfully converted the `NaN` to `None`"
   ]
  },
  {
   "cell_type": "code",
   "execution_count": 14,
   "metadata": {
    "scrolled": true
   },
   "outputs": [
    {
     "data": {
      "text/plain": [
       "Coverage                           0\n",
       "Education                          0\n",
       "EmploymentStatus                   0\n",
       "Gender                           129\n",
       "Location.Code                    119\n",
       "Marital.Status                   129\n",
       "Number.of.Open.Complaints          0\n",
       "Number.of.Policies                 0\n",
       "Policy.Type                        0\n",
       "Policy                             0\n",
       "Renew.Offer.Type                   0\n",
       "Sales.Channel                      0\n",
       "Vehicle.Class                      0\n",
       "Vehicle.Size                       0\n",
       "Months.Since.Last.Claim            0\n",
       "Months.Since.Policy.Inception      0\n",
       "dtype: int64"
      ]
     },
     "execution_count": 14,
     "metadata": {},
     "output_type": "execute_result"
    }
   ],
   "source": [
    "train[cat_cols].isna().sum()"
   ]
  },
  {
   "cell_type": "markdown",
   "metadata": {},
   "source": [
    "<div class=\"alert alert-block alert-info\"><b> \n",
    "\n",
    " - For this problem statement, we will consider that:\n",
    "  - There are only two categories for `Gender` ['Male, 'Female']\n",
    "  - There are only three categories for `Location.Code` ['Rural', 'Suburban', 'Urban']\n",
    "  - There are only three categories for `Maritial.Status` ['Married', 'Divorced', 'Single'] \n",
    "  \n",
    "   We will impute them in the futher steps.\n",
    "\n",
    "</b></div>"
   ]
  },
  {
   "cell_type": "markdown",
   "metadata": {},
   "source": [
    "### Let us check the unique values present in the `numerical features`"
   ]
  },
  {
   "cell_type": "code",
   "execution_count": 15,
   "metadata": {},
   "outputs": [
    {
     "name": "stdout",
     "output_type": "stream",
     "text": [
      "Monthly.Premium.Auto ----->> 191  :-  [ 67. 101. 108. 116.  72. 211.  90.  93. 110. 117.] \n",
      "\n",
      "Income ----->> 4621  :-  [    0. 63357. 64125. 67544. 19651. 23589. 74126. 31409. 58577. 19683.] \n",
      "\n",
      "Total.Claim.Amount ----->> 4125  :-  [ 267.214383  565.508572  369.818708  556.8       345.6      1012.8\n",
      "  478.751065  381.960657  303.872752  561.6     ] \n",
      "\n"
     ]
    }
   ],
   "source": [
    "for i in num_cols :\n",
    "    print(i, '----->>', train[i].nunique(), ' :- ', train[i].unique()[:10], '\\n')"
   ]
  },
  {
   "cell_type": "code",
   "execution_count": 16,
   "metadata": {
    "scrolled": true
   },
   "outputs": [
    {
     "data": {
      "text/plain": [
       "Monthly.Premium.Auto    794\n",
       "Income                  118\n",
       "Total.Claim.Amount        0\n",
       "dtype: int64"
      ]
     },
     "execution_count": 16,
     "metadata": {},
     "output_type": "execute_result"
    }
   ],
   "source": [
    "train[num_cols].isna().sum()"
   ]
  },
  {
   "cell_type": "markdown",
   "metadata": {},
   "source": [
    "We can see some missing values in the numerical features. We will impute them in the further steps.\n"
   ]
  },
  {
   "cell_type": "markdown",
   "metadata": {},
   "source": [
    "___"
   ]
  },
  {
   "attachments": {
    "train_validation_test.png": {
     "image/png": "[encoded data removed]"
    }
   },
   "cell_type": "markdown",
   "metadata": {},
   "source": [
    "## Train-Validation Split\n",
    "\n",
    "For training our model, we will be splitting our training dataset into _training_ and _validation_ dataset. \n",
    "\n",
    "Once we decide to build our model with the optimal performance metrics, will will use our testing dataset to get our predictions.\n",
    "\n",
    "![train_validation_test.png](attachment:train_validation_test.png)\n",
    "Ref : https://www.dailysmarty.com/posts/setting-up-test-validation-and-training-sets-of-data"
   ]
  },
  {
   "cell_type": "markdown",
   "metadata": {},
   "source": [
    "In the further steps, we will split the data in train-validation sets to continue our further EDA."
   ]
  },
  {
   "cell_type": "code",
   "execution_count": 6,
   "metadata": {},
   "outputs": [],
   "source": [
    "from sklearn.model_selection import train_test_split\n",
    "\n",
    "score_train, score_valid = train_test_split(train, test_size = 0.3, random_state = 1234)"
   ]
  },
  {
   "cell_type": "code",
   "execution_count": 7,
   "metadata": {},
   "outputs": [
    {
     "name": "stdout",
     "output_type": "stream",
     "text": [
      "Shape of training set: (6864, 20)\n",
      "Shape of validation set: (2942, 20)\n"
     ]
    }
   ],
   "source": [
    "print(\"Shape of training set:\", score_train.shape)\n",
    "print(\"Shape of validation set:\", score_valid.shape)"
   ]
  },
  {
   "cell_type": "markdown",
   "metadata": {},
   "source": [
    "### Checking for NaN values in the training set"
   ]
  },
  {
   "cell_type": "code",
   "execution_count": 19,
   "metadata": {},
   "outputs": [],
   "source": [
    "missing_values = score_train.isna().sum()\n",
    "\n",
    "missing_values = missing_values[missing_values>0]\n",
    "missing_values.sort_values(inplace=True)"
   ]
  },
  {
   "cell_type": "code",
   "execution_count": 20,
   "metadata": {},
   "outputs": [
    {
     "data": {
      "text/html": [
       "<div>\n",
       "<style scoped>\n",
       "    .dataframe tbody tr th:only-of-type {\n",
       "        vertical-align: middle;\n",
       "    }\n",
       "\n",
       "    .dataframe tbody tr th {\n",
       "        vertical-align: top;\n",
       "    }\n",
       "\n",
       "    .dataframe thead th {\n",
       "        text-align: right;\n",
       "    }\n",
       "</style>\n",
       "<table border=\"1\" class=\"dataframe\">\n",
       "  <thead>\n",
       "    <tr style=\"text-align: right;\">\n",
       "      <th></th>\n",
       "      <th>Count of missing data</th>\n",
       "      <th>Percentage of Null Values</th>\n",
       "    </tr>\n",
       "  </thead>\n",
       "  <tbody>\n",
       "    <tr>\n",
       "      <td>Income</td>\n",
       "      <td>86</td>\n",
       "      <td>1.252914</td>\n",
       "    </tr>\n",
       "    <tr>\n",
       "      <td>Location.Code</td>\n",
       "      <td>88</td>\n",
       "      <td>1.282051</td>\n",
       "    </tr>\n",
       "    <tr>\n",
       "      <td>Gender</td>\n",
       "      <td>92</td>\n",
       "      <td>1.340326</td>\n",
       "    </tr>\n",
       "    <tr>\n",
       "      <td>Marital.Status</td>\n",
       "      <td>92</td>\n",
       "      <td>1.340326</td>\n",
       "    </tr>\n",
       "    <tr>\n",
       "      <td>Monthly.Premium.Auto</td>\n",
       "      <td>574</td>\n",
       "      <td>8.362471</td>\n",
       "    </tr>\n",
       "  </tbody>\n",
       "</table>\n",
       "</div>"
      ],
      "text/plain": [
       "                      Count of missing data  Percentage of Null Values\n",
       "Income                                   86                   1.252914\n",
       "Location.Code                            88                   1.282051\n",
       "Gender                                   92                   1.340326\n",
       "Marital.Status                           92                   1.340326\n",
       "Monthly.Premium.Auto                    574                   8.362471"
      ]
     },
     "execution_count": 20,
     "metadata": {},
     "output_type": "execute_result"
    }
   ],
   "source": [
    "miss_data = pd.DataFrame(missing_values, columns = ['Count of missing data'])\n",
    "miss_data['Percentage of Null Values'] = pd.DataFrame(miss_data['Count of missing data']/len(score_train)*100)\n",
    "\n",
    "miss_data"
   ]
  },
  {
   "cell_type": "markdown",
   "metadata": {},
   "source": [
    "The percentage of missing values is just above 10%, which is very less.\n",
    "\n",
    "Hence as discussed above, these values would be imputed."
   ]
  },
  {
   "cell_type": "markdown",
   "metadata": {},
   "source": [
    "### Imputation of the categorical data"
   ]
  },
  {
   "cell_type": "code",
   "execution_count": 8,
   "metadata": {},
   "outputs": [],
   "source": [
    "from sklearn.impute import SimpleImputer\n",
    "\n",
    "cat_imputer_1 = SimpleImputer(strategy = 'most_frequent',missing_values='nan')\n",
    "score_train[cat_cols] = cat_imputer_1.fit_transform(score_train[cat_cols].astype(str))\n",
    "score_valid[cat_cols] = cat_imputer_1.transform(score_valid[cat_cols].astype(str))\n",
    "main_test[cat_cols] = cat_imputer_1.transform(main_test[cat_cols].astype(str))\n",
    "\n",
    "cat_imputer_2 = SimpleImputer(strategy = 'most_frequent',missing_values='None')\n",
    "score_train[cat_cols] = cat_imputer_2.fit_transform(score_train[cat_cols].astype(str))\n",
    "score_valid[cat_cols] = cat_imputer_2.transform(score_valid[cat_cols].astype(str))\n",
    "main_test[cat_cols] = cat_imputer_2.transform(main_test[cat_cols].astype(str))\n",
    "\n",
    "num_imputer = SimpleImputer(strategy = 'median')\n",
    "score_train[num_cols] = num_imputer.fit_transform(score_train[num_cols])\n",
    "score_valid[num_cols] = num_imputer.transform(score_valid[num_cols])\n",
    "main_test[num_cols] = num_imputer.transform(main_test[num_cols])"
   ]
  },
  {
   "cell_type": "markdown",
   "metadata": {},
   "source": [
    " - All the missing values in `Gender`, `Marital.Status` and `Location.Code` has been filled with the **mode values.**\n",
    " - The missing data in other categorical features have been imputed from **None** to the **most_frequent** levels.\n",
    " - The numerical features have been imputed using the **median value.**"
   ]
  },
  {
   "cell_type": "markdown",
   "metadata": {},
   "source": [
    "___"
   ]
  },
  {
   "cell_type": "markdown",
   "metadata": {},
   "source": [
    "# Visualization"
   ]
  },
  {
   "cell_type": "markdown",
   "metadata": {},
   "source": [
    "#### Visualization of the target variable `Customer.Lifetime.Value`"
   ]
  },
  {
   "cell_type": "code",
   "execution_count": 22,
   "metadata": {},
   "outputs": [
    {
     "data": {
      "image/png": "[encoded data removed]",
      "text/plain": [
       "<Figure size 864x720 with 1 Axes>"
      ]
     },
     "metadata": {
      "needs_background": "light"
     },
     "output_type": "display_data"
    }
   ],
   "source": [
    "plt.figure(figsize = (12,10))\n",
    "sns.distplot(a = score_valid['Customer.Lifetime.Value'], bins = 50)\n",
    "plt.grid(True)"
   ]
  },
  {
   "cell_type": "markdown",
   "metadata": {},
   "source": [
    "We can see that the target variable is right-skewed.\n",
    "\n",
    "Intuitively, there may be few outliers. However, we shall verify this in the further plots."
   ]
  },
  {
   "cell_type": "markdown",
   "metadata": {},
   "source": [
    "## Visualization of the `categorical features`"
   ]
  },
  {
   "cell_type": "code",
   "execution_count": 23,
   "metadata": {},
   "outputs": [
    {
     "data": {
      "text/plain": [
       "<matplotlib.axes._subplots.AxesSubplot at 0x1e8237e39b0>"
      ]
     },
     "execution_count": 23,
     "metadata": {},
     "output_type": "execute_result"
    },
    {
     "data": {
      "image/png": "[encoded data removed]",
      "text/plain": [
       "<Figure size 720x432 with 1 Axes>"
      ]
     },
     "metadata": {
      "needs_background": "light"
     },
     "output_type": "display_data"
    }
   ],
   "source": [
    "plt.figure(figsize=(10,6))\n",
    "sns.countplot(x = score_train['Coverage'])#, x = score_train['Location.Code'])"
   ]
  },
  {
   "cell_type": "markdown",
   "metadata": {},
   "source": [
    "Majority of the customers buy a *Basic* policy. Mainly, the basic auto policies consist of bodily injury liability, personal injury protection, property damage liability, collision, comprehensive and uninsured/underinsured motorist.\n",
    "\n",
    "Ref : https://www.iii.org/article/what-covered-basic-auto-insurance-policy"
   ]
  },
  {
   "cell_type": "markdown",
   "metadata": {},
   "source": [
    "Extended coverage provides vehicle owners financial protection against different kinds of issues regarding your use of your vehicle. The most popular types of extended coverage insurance are gap coverage, rental reimbursement, and towing and labor.\n",
    "\n",
    "Ref : https://www.bestautoinsurance.com/coverage/extended-coverage.php"
   ]
  },
  {
   "cell_type": "markdown",
   "metadata": {},
   "source": [
    "An insurance premium is the amount of money an individual or business must pay for an insurance policy. Insurance premiums are paid for policies that cover healthcare, auto, home, life, and others. Insurance premiums may increase after the policy.\n",
    "\n",
    "Ref : https://www.investopedia.com/terms/i/insurance-premium.asp"
   ]
  },
  {
   "cell_type": "code",
   "execution_count": 24,
   "metadata": {
    "scrolled": false
   },
   "outputs": [
    {
     "data": {
      "text/plain": [
       "<matplotlib.axes._subplots.AxesSubplot at 0x1e8241118d0>"
      ]
     },
     "execution_count": 24,
     "metadata": {},
     "output_type": "execute_result"
    },
    {
     "data": {
      "image/png": "[encoded data removed]",
      "text/plain": [
       "<Figure size 720x432 with 1 Axes>"
      ]
     },
     "metadata": {
      "needs_background": "light"
     },
     "output_type": "display_data"
    }
   ],
   "source": [
    "plt.figure(figsize=(10,6))\n",
    "sns.countplot(x = score_train['EmploymentStatus'])#, x = score_train['Location.Code'])"
   ]
  },
  {
   "cell_type": "markdown",
   "metadata": {},
   "source": [
    "This plot signifies that the customers who are employeed have a higher customer lifetime value, as there is guarantee that the customer will pay the premium of the policies."
   ]
  },
  {
   "cell_type": "code",
   "execution_count": 25,
   "metadata": {},
   "outputs": [
    {
     "data": {
      "text/plain": [
       "<matplotlib.axes._subplots.AxesSubplot at 0x1e823eed9b0>"
      ]
     },
     "execution_count": 25,
     "metadata": {},
     "output_type": "execute_result"
    },
    {
     "data": {
      "image/png": "[encoded data removed]",
      "text/plain": [
       "<Figure size 720x432 with 1 Axes>"
      ]
     },
     "metadata": {
      "needs_background": "light"
     },
     "output_type": "display_data"
    }
   ],
   "source": [
    "plt.figure(figsize=(10,6))\n",
    "sns.countplot(x = score_train['Number.of.Open.Complaints'])#, x = score_train['Location.Code'])"
   ]
  },
  {
   "cell_type": "markdown",
   "metadata": {},
   "source": [
    "This is a very intuituve graph that a satisfied customer does not file or report any complaint(s)."
   ]
  },
  {
   "cell_type": "markdown",
   "metadata": {},
   "source": [
    "<div class=\"alert alert-block alert-info\"><b> \n",
    "\n",
    " - Note that we have performed data wrangling. This has caused some amount of munching of the data. \n",
    "\n",
    "</b></div>"
   ]
  },
  {
   "cell_type": "code",
   "execution_count": 26,
   "metadata": {},
   "outputs": [
    {
     "data": {
      "text/plain": [
       "<matplotlib.axes._subplots.AxesSubplot at 0x1e822d49dd8>"
      ]
     },
     "execution_count": 26,
     "metadata": {},
     "output_type": "execute_result"
    },
    {
     "data": {
      "image/png": "[encoded data removed]",
      "text/plain": [
       "<Figure size 720x432 with 1 Axes>"
      ]
     },
     "metadata": {
      "needs_background": "light"
     },
     "output_type": "display_data"
    }
   ],
   "source": [
    "plt.figure(figsize=(10,6))\n",
    "sns.countplot(hue = score_train['Policy.Type'], x = score_train['Location.Code'])"
   ]
  },
  {
   "cell_type": "markdown",
   "metadata": {},
   "source": [
    "The plot reveals that customers buy *personal auto policies* compared to other policy type. Also, maximum number of policies are bought by the customers living in the *suburban areas*. This does make sense as more number of people live in the suburban areas for various reasons (one of them being lower-house prices)."
   ]
  },
  {
   "cell_type": "code",
   "execution_count": 27,
   "metadata": {},
   "outputs": [
    {
     "data": {
      "text/plain": [
       "<matplotlib.axes._subplots.AxesSubplot at 0x1e823f078d0>"
      ]
     },
     "execution_count": 27,
     "metadata": {},
     "output_type": "execute_result"
    },
    {
     "data": {
      "image/png": "[encoded data removed]",
      "text/plain": [
       "<Figure size 720x432 with 1 Axes>"
      ]
     },
     "metadata": {
      "needs_background": "light"
     },
     "output_type": "display_data"
    }
   ],
   "source": [
    "plt.figure(figsize=(10,6))\n",
    "sns.countplot(x = score_train['Vehicle.Class'], hue = score_train['Location.Code'])"
   ]
  },
  {
   "cell_type": "markdown",
   "metadata": {},
   "source": [
    "The plot above is the evidence that customers prefer to buy a *Four-Door Car* (hatchbacks, sedans or MUVs), irrespective of their location."
   ]
  },
  {
   "cell_type": "code",
   "execution_count": 28,
   "metadata": {},
   "outputs": [
    {
     "data": {
      "text/html": [
       "<div>\n",
       "<style scoped>\n",
       "    .dataframe tbody tr th:only-of-type {\n",
       "        vertical-align: middle;\n",
       "    }\n",
       "\n",
       "    .dataframe tbody tr th {\n",
       "        vertical-align: top;\n",
       "    }\n",
       "\n",
       "    .dataframe thead th {\n",
       "        text-align: right;\n",
       "    }\n",
       "</style>\n",
       "<table border=\"1\" class=\"dataframe\">\n",
       "  <thead>\n",
       "    <tr style=\"text-align: right;\">\n",
       "      <th></th>\n",
       "      <th>Feature</th>\n",
       "      <th>Percentage of features</th>\n",
       "    </tr>\n",
       "  </thead>\n",
       "  <tbody>\n",
       "  </tbody>\n",
       "</table>\n",
       "</div>"
      ],
      "text/plain": [
       "Empty DataFrame\n",
       "Columns: [Feature, Percentage of features]\n",
       "Index: []"
      ]
     },
     "execution_count": 28,
     "metadata": {},
     "output_type": "execute_result"
    }
   ],
   "source": [
    "result = []\n",
    "feature = []\n",
    "for i in score_train[cat_cols].columns:\n",
    "    count = score_train[i].value_counts()/len(score_train[i])*100\n",
    "    count = count[count>=85]\n",
    "    if not count.empty :\n",
    "        result.append([i,count.to_string(header=None, index=None)])\n",
    "        feature.append(i)\n",
    "\n",
    "final_cat = pd.DataFrame(result, columns = ['Feature', 'Percentage of features'])\n",
    "final_cat"
   ]
  },
  {
   "cell_type": "markdown",
   "metadata": {},
   "source": [
    "The are no feaures either have zero variance or 1 very dominant category. So we can move forward with visualization."
   ]
  },
  {
   "cell_type": "markdown",
   "metadata": {},
   "source": [
    "<div class=\"alert alert-block alert-info\"><b> \n",
    "\n",
    " - Due to unavailibity of the data description, few features (like `Policy`, `Offer.Renew.Type` and `Vehicle.Size`) could not be explained with details.\n",
    "\n",
    "</b></div>"
   ]
  },
  {
   "cell_type": "markdown",
   "metadata": {},
   "source": [
    "## Visualization of the `numerical features`"
   ]
  },
  {
   "cell_type": "code",
   "execution_count": 29,
   "metadata": {},
   "outputs": [
    {
     "data": {
      "image/png": "[encoded data removed]",
      "text/plain": [
       "<Figure size 1080x6840 with 2 Axes>"
      ]
     },
     "metadata": {
      "needs_background": "light"
     },
     "output_type": "display_data"
    }
   ],
   "source": [
    "fig = plt.figure(figsize=(15,95))\n",
    "\n",
    "for i in range(1,len(num_cols)):\n",
    "    ax = fig.add_subplot(20, 1, i)\n",
    "    g = sns.regplot(score_train[num_cols[i-1]], y = score_train['Customer.Lifetime.Value'])\n",
    "    plt.grid(True)\n",
    "    "
   ]
  },
  {
   "cell_type": "markdown",
   "metadata": {},
   "source": [
    "Intutively, customer life time value can be expected to be dependent on the person's income. Although, the above scatter graph of `Customer.Lifetime.Value` v/s `Income` proves that this intuition is absolutely false. \n",
    "\n",
    "`Customer.Lifetime.Value` and `Income` are independent of each other."
   ]
  },
  {
   "cell_type": "code",
   "execution_count": 30,
   "metadata": {},
   "outputs": [
    {
     "data": {
      "text/html": [
       "<div>\n",
       "<style scoped>\n",
       "    .dataframe tbody tr th:only-of-type {\n",
       "        vertical-align: middle;\n",
       "    }\n",
       "\n",
       "    .dataframe tbody tr th {\n",
       "        vertical-align: top;\n",
       "    }\n",
       "\n",
       "    .dataframe thead th {\n",
       "        text-align: right;\n",
       "    }\n",
       "</style>\n",
       "<table border=\"1\" class=\"dataframe\">\n",
       "  <thead>\n",
       "    <tr style=\"text-align: right;\">\n",
       "      <th></th>\n",
       "      <th>Feature</th>\n",
       "      <th>Percentage of features</th>\n",
       "    </tr>\n",
       "  </thead>\n",
       "  <tbody>\n",
       "    <tr>\n",
       "      <td>0</td>\n",
       "      <td>Income</td>\n",
       "      <td>25.422494</td>\n",
       "    </tr>\n",
       "  </tbody>\n",
       "</table>\n",
       "</div>"
      ],
      "text/plain": [
       "  Feature Percentage of features\n",
       "0  Income              25.422494"
      ]
     },
     "execution_count": 30,
     "metadata": {},
     "output_type": "execute_result"
    }
   ],
   "source": [
    "result = []\n",
    "feature = []\n",
    "for i in score_train[num_cols].columns:\n",
    "    count = score_train[i].value_counts()/len(score_train[i])*100\n",
    "    count = count[count>=10]\n",
    "    if not count.empty :\n",
    "        result.append([i,count.to_string(header=None, index=None)])\n",
    "        feature.append(i)\n",
    "\n",
    "final_num = pd.DataFrame(result, columns = ['Feature', 'Percentage of features'])\n",
    "final_num"
   ]
  },
  {
   "cell_type": "markdown",
   "metadata": {},
   "source": [
    "By looking at the plots, there seem to be no major outliers. Hence, we shall move forward with the model building."
   ]
  },
  {
   "cell_type": "code",
   "execution_count": 31,
   "metadata": {},
   "outputs": [
    {
     "name": "stdout",
     "output_type": "stream",
     "text": [
      "(6864, 20)\n",
      "(2942, 20)\n"
     ]
    }
   ],
   "source": [
    "print(score_train.shape)\n",
    "print(score_valid.shape)"
   ]
  },
  {
   "cell_type": "markdown",
   "metadata": {},
   "source": [
    "### Separating the dependent and independent variables"
   ]
  },
  {
   "cell_type": "code",
   "execution_count": 9,
   "metadata": {},
   "outputs": [
    {
     "data": {
      "text/html": [
       "<div>\n",
       "<style scoped>\n",
       "    .dataframe tbody tr th:only-of-type {\n",
       "        vertical-align: middle;\n",
       "    }\n",
       "\n",
       "    .dataframe tbody tr th {\n",
       "        vertical-align: top;\n",
       "    }\n",
       "\n",
       "    .dataframe thead th {\n",
       "        text-align: right;\n",
       "    }\n",
       "</style>\n",
       "<table border=\"1\" class=\"dataframe\">\n",
       "  <thead>\n",
       "    <tr style=\"text-align: right;\">\n",
       "      <th></th>\n",
       "      <th>Coverage</th>\n",
       "      <th>Education</th>\n",
       "      <th>EmploymentStatus</th>\n",
       "      <th>Gender</th>\n",
       "      <th>Income</th>\n",
       "      <th>Location.Code</th>\n",
       "      <th>Marital.Status</th>\n",
       "      <th>Monthly.Premium.Auto</th>\n",
       "      <th>Months.Since.Last.Claim</th>\n",
       "      <th>Months.Since.Policy.Inception</th>\n",
       "      <th>Number.of.Open.Complaints</th>\n",
       "      <th>Number.of.Policies</th>\n",
       "      <th>Policy.Type</th>\n",
       "      <th>Policy</th>\n",
       "      <th>Renew.Offer.Type</th>\n",
       "      <th>Sales.Channel</th>\n",
       "      <th>Total.Claim.Amount</th>\n",
       "      <th>Vehicle.Class</th>\n",
       "      <th>Vehicle.Size</th>\n",
       "    </tr>\n",
       "    <tr>\n",
       "      <th>CustomerID</th>\n",
       "      <th></th>\n",
       "      <th></th>\n",
       "      <th></th>\n",
       "      <th></th>\n",
       "      <th></th>\n",
       "      <th></th>\n",
       "      <th></th>\n",
       "      <th></th>\n",
       "      <th></th>\n",
       "      <th></th>\n",
       "      <th></th>\n",
       "      <th></th>\n",
       "      <th></th>\n",
       "      <th></th>\n",
       "      <th></th>\n",
       "      <th></th>\n",
       "      <th></th>\n",
       "      <th></th>\n",
       "      <th></th>\n",
       "    </tr>\n",
       "  </thead>\n",
       "  <tbody>\n",
       "    <tr>\n",
       "      <td>17</td>\n",
       "      <td>Basic</td>\n",
       "      <td>Bachelor</td>\n",
       "      <td>Employed</td>\n",
       "      <td>M</td>\n",
       "      <td>43836.0</td>\n",
       "      <td>Rural</td>\n",
       "      <td>Single</td>\n",
       "      <td>73.0</td>\n",
       "      <td>12</td>\n",
       "      <td>44</td>\n",
       "      <td>0</td>\n",
       "      <td>1</td>\n",
       "      <td>Personal Auto</td>\n",
       "      <td>Personal L1</td>\n",
       "      <td>Offer1</td>\n",
       "      <td>Agent</td>\n",
       "      <td>138.130879</td>\n",
       "      <td>Four-Door Car</td>\n",
       "      <td>Medsize</td>\n",
       "    </tr>\n",
       "    <tr>\n",
       "      <td>19</td>\n",
       "      <td>Extended</td>\n",
       "      <td>College</td>\n",
       "      <td>Employed</td>\n",
       "      <td>F</td>\n",
       "      <td>28812.0</td>\n",
       "      <td>Urban</td>\n",
       "      <td>Married</td>\n",
       "      <td>93.0</td>\n",
       "      <td>17</td>\n",
       "      <td>7</td>\n",
       "      <td>0</td>\n",
       "      <td>8</td>\n",
       "      <td>Special Auto</td>\n",
       "      <td>Special L2</td>\n",
       "      <td>Offer2</td>\n",
       "      <td>Branch</td>\n",
       "      <td>425.527834</td>\n",
       "      <td>Four-Door Car</td>\n",
       "      <td>Medsize</td>\n",
       "    </tr>\n",
       "    <tr>\n",
       "      <td>29</td>\n",
       "      <td>Premium</td>\n",
       "      <td>Master</td>\n",
       "      <td>Employed</td>\n",
       "      <td>M</td>\n",
       "      <td>77026.0</td>\n",
       "      <td>Urban</td>\n",
       "      <td>Married</td>\n",
       "      <td>110.0</td>\n",
       "      <td>9</td>\n",
       "      <td>82</td>\n",
       "      <td>2</td>\n",
       "      <td>3</td>\n",
       "      <td>Corporate Auto</td>\n",
       "      <td>Corporate L1</td>\n",
       "      <td>Offer2</td>\n",
       "      <td>Agent</td>\n",
       "      <td>472.029737</td>\n",
       "      <td>Four-Door Car</td>\n",
       "      <td>Medsize</td>\n",
       "    </tr>\n",
       "    <tr>\n",
       "      <td>34</td>\n",
       "      <td>Basic</td>\n",
       "      <td>Bachelor</td>\n",
       "      <td>Employed</td>\n",
       "      <td>F</td>\n",
       "      <td>24599.0</td>\n",
       "      <td>Rural</td>\n",
       "      <td>Married</td>\n",
       "      <td>64.0</td>\n",
       "      <td>12</td>\n",
       "      <td>50</td>\n",
       "      <td>1</td>\n",
       "      <td>2</td>\n",
       "      <td>Corporate Auto</td>\n",
       "      <td>Corporate L2</td>\n",
       "      <td>Offer2</td>\n",
       "      <td>Branch</td>\n",
       "      <td>42.920271</td>\n",
       "      <td>Four-Door Car</td>\n",
       "      <td>Medsize</td>\n",
       "    </tr>\n",
       "    <tr>\n",
       "      <td>37</td>\n",
       "      <td>Extended</td>\n",
       "      <td>Bachelor</td>\n",
       "      <td>Disabled</td>\n",
       "      <td>F</td>\n",
       "      <td>13789.0</td>\n",
       "      <td>Suburban</td>\n",
       "      <td>Divorced</td>\n",
       "      <td>79.0</td>\n",
       "      <td>8</td>\n",
       "      <td>49</td>\n",
       "      <td>0</td>\n",
       "      <td>1</td>\n",
       "      <td>Personal Auto</td>\n",
       "      <td>Personal L3</td>\n",
       "      <td>Offer4</td>\n",
       "      <td>Call Center</td>\n",
       "      <td>379.200000</td>\n",
       "      <td>Four-Door Car</td>\n",
       "      <td>Medsize</td>\n",
       "    </tr>\n",
       "  </tbody>\n",
       "</table>\n",
       "</div>"
      ],
      "text/plain": [
       "            Coverage Education EmploymentStatus Gender   Income Location.Code  \\\n",
       "CustomerID                                                                      \n",
       "17             Basic  Bachelor         Employed      M  43836.0         Rural   \n",
       "19          Extended   College         Employed      F  28812.0         Urban   \n",
       "29           Premium    Master         Employed      M  77026.0         Urban   \n",
       "34             Basic  Bachelor         Employed      F  24599.0         Rural   \n",
       "37          Extended  Bachelor         Disabled      F  13789.0      Suburban   \n",
       "\n",
       "           Marital.Status  Monthly.Premium.Auto Months.Since.Last.Claim  \\\n",
       "CustomerID                                                                \n",
       "17                 Single                  73.0                      12   \n",
       "19                Married                  93.0                      17   \n",
       "29                Married                 110.0                       9   \n",
       "34                Married                  64.0                      12   \n",
       "37               Divorced                  79.0                       8   \n",
       "\n",
       "           Months.Since.Policy.Inception Number.of.Open.Complaints  \\\n",
       "CustomerID                                                           \n",
       "17                                    44                         0   \n",
       "19                                     7                         0   \n",
       "29                                    82                         2   \n",
       "34                                    50                         1   \n",
       "37                                    49                         0   \n",
       "\n",
       "           Number.of.Policies     Policy.Type        Policy Renew.Offer.Type  \\\n",
       "CustomerID                                                                     \n",
       "17                          1   Personal Auto   Personal L1           Offer1   \n",
       "19                          8    Special Auto    Special L2           Offer2   \n",
       "29                          3  Corporate Auto  Corporate L1           Offer2   \n",
       "34                          2  Corporate Auto  Corporate L2           Offer2   \n",
       "37                          1   Personal Auto   Personal L3           Offer4   \n",
       "\n",
       "           Sales.Channel  Total.Claim.Amount  Vehicle.Class Vehicle.Size  \n",
       "CustomerID                                                                \n",
       "17                 Agent          138.130879  Four-Door Car      Medsize  \n",
       "19                Branch          425.527834  Four-Door Car      Medsize  \n",
       "29                 Agent          472.029737  Four-Door Car      Medsize  \n",
       "34                Branch           42.920271  Four-Door Car      Medsize  \n",
       "37           Call Center          379.200000  Four-Door Car      Medsize  "
      ]
     },
     "execution_count": 9,
     "metadata": {},
     "output_type": "execute_result"
    }
   ],
   "source": [
    "X_train = score_train.drop('Customer.Lifetime.Value', axis = 1)\n",
    "y_train = score_train['Customer.Lifetime.Value']\n",
    "\n",
    "X_valid = score_valid.drop('Customer.Lifetime.Value', axis = 1)\n",
    "y_valid = score_valid['Customer.Lifetime.Value']\n",
    "\n",
    "main_test.head()"
   ]
  },
  {
   "cell_type": "markdown",
   "metadata": {},
   "source": [
    "<div class=\"alert alert-block alert-info\"><b> \n",
    "\n",
    " - `X_train`, `y_train`, `X_valid`, `y_valid` will help us build and evaluate the models.\n",
    " - `main_test` will help us make the predictions on the original test set.\n",
    "\n",
    "</b></div>"
   ]
  },
  {
   "cell_type": "markdown",
   "metadata": {},
   "source": [
    "One last step before building the models.\n",
    "\n",
    "Before proceeding:\n",
    " - We need to __Dummify__ the categorical features, using **OneHot Enconding**\n",
    " - **Standardize** the numerical features"
   ]
  },
  {
   "cell_type": "code",
   "execution_count": 10,
   "metadata": {},
   "outputs": [],
   "source": [
    "X_train[cat_cols] = X_train[cat_cols].astype('category')\n",
    "X_valid[cat_cols] = X_valid[cat_cols].astype('category')\n",
    "main_test[cat_cols] = main_test[cat_cols].astype('category')"
   ]
  },
  {
   "cell_type": "markdown",
   "metadata": {},
   "source": [
    "main_test[cat_cols] = main_test[cat_cols].astype('category')"
   ]
  },
  {
   "cell_type": "markdown",
   "metadata": {},
   "source": [
    "### One Hot Encoding the `categorical features`"
   ]
  },
  {
   "cell_type": "code",
   "execution_count": 11,
   "metadata": {},
   "outputs": [],
   "source": [
    "from sklearn.preprocessing import OneHotEncoder\n",
    "\n",
    "ohe = OneHotEncoder(handle_unknown = 'ignore')\n",
    "\n",
    "X_train = ohe.fit_transform(X_train[cat_cols])\n",
    "X_valid = ohe.transform(X_valid[cat_cols])\n",
    "main_test = ohe.transform(main_test[cat_cols])"
   ]
  },
  {
   "cell_type": "code",
   "execution_count": 35,
   "metadata": {},
   "outputs": [
    {
     "name": "stdout",
     "output_type": "stream",
     "text": [
      "(6864, 201)\n",
      "(2942, 201)\n",
      "(1767, 201)\n"
     ]
    }
   ],
   "source": [
    "print(X_train.shape)\n",
    "print(X_valid.shape)\n",
    "print(main_test.shape)"
   ]
  },
  {
   "cell_type": "markdown",
   "metadata": {},
   "source": [
    "The number of features of the `train`, `validation` and  `test` sets are equal. We have successfully encoded the categorical features and now can move forward."
   ]
  },
  {
   "cell_type": "markdown",
   "metadata": {},
   "source": [
    "### Standardization of the `numerical features`"
   ]
  },
  {
   "cell_type": "code",
   "execution_count": 12,
   "metadata": {},
   "outputs": [],
   "source": [
    "from sklearn.preprocessing import StandardScaler\n",
    "SC = StandardScaler(with_mean = False)\n",
    "\n",
    "X_train_SC = SC.fit_transform(X_train)\n",
    "X_valid_SC = SC.transform(X_valid)\n",
    "main_test_SC = SC.transform(main_test)\n"
   ]
  },
  {
   "cell_type": "markdown",
   "metadata": {},
   "source": [
    "We have cleaned the data. Now we can proceed to building the models."
   ]
  },
  {
   "cell_type": "markdown",
   "metadata": {},
   "source": [
    "___"
   ]
  },
  {
   "cell_type": "markdown",
   "metadata": {},
   "source": [
    "# Model Building"
   ]
  },
  {
   "cell_type": "markdown",
   "metadata": {},
   "source": [
    "Since our target variable has a continuous value, we will be implementing **Regression Techniques**.\n"
   ]
  },
  {
   "cell_type": "markdown",
   "metadata": {},
   "source": [
    "#### Funtion for model buidling along with k-fold cross validation\n",
    "\n",
    "Using `scale = True`, we will be able to build model using standardized values."
   ]
  },
  {
   "cell_type": "code",
   "execution_count": 14,
   "metadata": {},
   "outputs": [],
   "source": [
    "from sklearn.model_selection import GridSearchCV\n",
    "\n",
    "def model_building(model, parameters = None, cv = 10, scale = False):\n",
    "    if scale == False:\n",
    "        if parameters == None:\n",
    "            model.fit(X_train, y_train)\n",
    "            return(model, model.predict(X_train), model.predict(X_valid), model.predict(main_test))\n",
    "        else:\n",
    "            model_cv = GridSearchCV(estimator = model, param_grid = parameters, cv = cv)\n",
    "            model_cv.fit(X_train, y_train)\n",
    "            model = model_cv.best_estimator_\n",
    "            \n",
    "            return(model_cv,model, model.predict(X_train), model.predict(X_valid), model.predict(main_test))\n",
    "    else:\n",
    "        if parameters == None:\n",
    "            model.fit(X_train_SC, y_train)\n",
    "            return(model, model.predict(X_train_SC),model.predict(X_valid_SC), model.predict(main_test_SC))\n",
    "        else:\n",
    "            model_cv = GridSearchCV(estimator = model, param_grid = parameters, cv = cv)\n",
    "            model_cv.fit(X_train_SC, y_train)\n",
    "            model = model_cv.best_estimator_\n",
    "            return(model_cv,model, model.predict(X_train_SC), model.predict(X_valid_SC), model.predict(main_test_SC))"
   ]
  },
  {
   "cell_type": "markdown",
   "metadata": {},
   "source": [
    "First we will build Single models that includes:\n",
    " - Linear Regression\n",
    " - Elastic Net\n",
    " - KNN Regression\n",
    " - Decision Tree Regression"
   ]
  },
  {
   "cell_type": "code",
   "execution_count": 13,
   "metadata": {},
   "outputs": [],
   "source": [
    "from sklearn.linear_model import LinearRegression, ElasticNet\n",
    "from sklearn.tree import DecisionTreeRegressor\n",
    "from sklearn.neighbors import KNeighborsRegressor"
   ]
  },
  {
   "cell_type": "code",
   "execution_count": 15,
   "metadata": {},
   "outputs": [],
   "source": [
    "from sklearn.metrics import mean_squared_error, mean_absolute_error"
   ]
  },
  {
   "cell_type": "code",
   "execution_count": 16,
   "metadata": {},
   "outputs": [
    {
     "name": "stdout",
     "output_type": "stream",
     "text": [
      "===================================================================\n",
      "\t\t\t LinearRegression \n",
      "===================================================================\n",
      "\n",
      "{'normalize': False} \n",
      "\n",
      "\n",
      "===================================================================\n",
      "\t\t\t ElasticNet \n",
      "===================================================================\n",
      "\n",
      "{'alpha': 1, 'l1_ratio': 1} \n",
      "\n",
      "\n",
      "===================================================================\n",
      "\t\t\t DecisionTreeRegressor \n",
      "===================================================================\n",
      "\n",
      "{'criterion': 'mae', 'splitter': 'random'} \n",
      "\n",
      "\n",
      "===================================================================\n",
      "\t\t\t KNeighborsRegressor \n",
      "===================================================================\n",
      "\n",
      "{'algorithm': 'auto', 'n_neighbors': 9} \n",
      "\n",
      "\n"
     ]
    }
   ],
   "source": [
    "model_report = []\n",
    "mse_train = []\n",
    "mae_train = []\n",
    "mse_valid = []\n",
    "mae_valid = []\n",
    "\n",
    "parameters = [(LinearRegression(), {'normalize':[False, True]}),\n",
    "             \n",
    "              (ElasticNet(), {'alpha' : [0.1, 1],\n",
    "                            'l1_ratio' : [0.5, 1]}),\n",
    "              \n",
    "             (DecisionTreeRegressor(), {'criterion' : ['mse','mae'],\n",
    "                                       'splitter' : ['best', 'random']}),\n",
    "             (KNeighborsRegressor(), {'n_neighbors' : range(1,11,2),\n",
    "                                     'algorithm' : ['auto', 'brute']})]\n",
    "\n",
    "for models, parameter in parameters :\n",
    "    \n",
    "    model_cv, model, pred_train, pred_valid, pred_test = model_building(models, parameters = parameter, cv = 2)\n",
    "    \n",
    "    print('===================================================================\\n\\t\\t\\t',\n",
    "          type(models).__name__,\n",
    "          '\\n===================================================================\\n')\n",
    "    \n",
    "    print(model_cv.best_params_, '\\n\\n')\n",
    "    mse_train.append(mean_squared_error(y_true = y_train, y_pred = pred_train))\n",
    "    mae_train.append(mean_absolute_error(y_true = y_train, y_pred = pred_train))\n",
    "    \n",
    "    mse_valid.append(mean_squared_error(y_true = y_valid, y_pred = pred_valid))\n",
    "    mae_valid.append(mean_absolute_error(y_true = y_valid, y_pred = pred_valid))\n"
   ]
  },
  {
   "cell_type": "code",
   "execution_count": 19,
   "metadata": {},
   "outputs": [
    {
     "data": {
      "text/plain": [
       "'-----Training Performance----'"
      ]
     },
     "metadata": {},
     "output_type": "display_data"
    },
    {
     "data": {
      "text/html": [
       "<div>\n",
       "<style scoped>\n",
       "    .dataframe tbody tr th:only-of-type {\n",
       "        vertical-align: middle;\n",
       "    }\n",
       "\n",
       "    .dataframe tbody tr th {\n",
       "        vertical-align: top;\n",
       "    }\n",
       "\n",
       "    .dataframe thead th {\n",
       "        text-align: right;\n",
       "    }\n",
       "</style>\n",
       "<table border=\"1\" class=\"dataframe\">\n",
       "  <thead>\n",
       "    <tr style=\"text-align: right;\">\n",
       "      <th></th>\n",
       "      <th>MSE_train</th>\n",
       "      <th>MAE_train</th>\n",
       "      <th>RMSE_train</th>\n",
       "    </tr>\n",
       "  </thead>\n",
       "  <tbody>\n",
       "    <tr>\n",
       "      <td>Linear Regression</td>\n",
       "      <td>1.657519e+07</td>\n",
       "      <td>2247.918771</td>\n",
       "      <td>4071.264371</td>\n",
       "    </tr>\n",
       "    <tr>\n",
       "      <td>Elastic Net</td>\n",
       "      <td>1.659152e+07</td>\n",
       "      <td>2225.100201</td>\n",
       "      <td>4073.269012</td>\n",
       "    </tr>\n",
       "    <tr>\n",
       "      <td>DT Regression</td>\n",
       "      <td>2.828575e-02</td>\n",
       "      <td>0.002871</td>\n",
       "      <td>0.168184</td>\n",
       "    </tr>\n",
       "    <tr>\n",
       "      <td>KNN Regression</td>\n",
       "      <td>2.007774e+07</td>\n",
       "      <td>2388.555704</td>\n",
       "      <td>4480.818839</td>\n",
       "    </tr>\n",
       "  </tbody>\n",
       "</table>\n",
       "</div>"
      ],
      "text/plain": [
       "                      MSE_train    MAE_train   RMSE_train\n",
       "Linear Regression  1.657519e+07  2247.918771  4071.264371\n",
       "Elastic Net        1.659152e+07  2225.100201  4073.269012\n",
       "DT Regression      2.828575e-02     0.002871     0.168184\n",
       "KNN Regression     2.007774e+07  2388.555704  4480.818839"
      ]
     },
     "metadata": {},
     "output_type": "display_data"
    },
    {
     "name": "stdout",
     "output_type": "stream",
     "text": [
      "\n",
      "\n"
     ]
    },
    {
     "data": {
      "text/plain": [
       "'-----Validation Performance----'"
      ]
     },
     "metadata": {},
     "output_type": "display_data"
    },
    {
     "data": {
      "text/html": [
       "<div>\n",
       "<style scoped>\n",
       "    .dataframe tbody tr th:only-of-type {\n",
       "        vertical-align: middle;\n",
       "    }\n",
       "\n",
       "    .dataframe tbody tr th {\n",
       "        vertical-align: top;\n",
       "    }\n",
       "\n",
       "    .dataframe thead th {\n",
       "        text-align: right;\n",
       "    }\n",
       "</style>\n",
       "<table border=\"1\" class=\"dataframe\">\n",
       "  <thead>\n",
       "    <tr style=\"text-align: right;\">\n",
       "      <th></th>\n",
       "      <th>MSE_valid</th>\n",
       "      <th>MAE_valid</th>\n",
       "      <th>RMSE_valid</th>\n",
       "    </tr>\n",
       "  </thead>\n",
       "  <tbody>\n",
       "    <tr>\n",
       "      <td>Linear Regression</td>\n",
       "      <td>2.115167e+07</td>\n",
       "      <td>2398.329847</td>\n",
       "      <td>4599.094792</td>\n",
       "    </tr>\n",
       "    <tr>\n",
       "      <td>Elastic Net</td>\n",
       "      <td>2.110261e+07</td>\n",
       "      <td>2368.525291</td>\n",
       "      <td>4593.757421</td>\n",
       "    </tr>\n",
       "    <tr>\n",
       "      <td>DT Regression</td>\n",
       "      <td>3.094810e+07</td>\n",
       "      <td>2083.013024</td>\n",
       "      <td>5563.101515</td>\n",
       "    </tr>\n",
       "    <tr>\n",
       "      <td>KNN Regression</td>\n",
       "      <td>2.902722e+07</td>\n",
       "      <td>2759.202344</td>\n",
       "      <td>5387.691912</td>\n",
       "    </tr>\n",
       "  </tbody>\n",
       "</table>\n",
       "</div>"
      ],
      "text/plain": [
       "                      MSE_valid    MAE_valid   RMSE_valid\n",
       "Linear Regression  2.115167e+07  2398.329847  4599.094792\n",
       "Elastic Net        2.110261e+07  2368.525291  4593.757421\n",
       "DT Regression      3.094810e+07  2083.013024  5563.101515\n",
       "KNN Regression     2.902722e+07  2759.202344  5387.691912"
      ]
     },
     "metadata": {},
     "output_type": "display_data"
    }
   ],
   "source": [
    "classifiers=['Linear Regression','Elastic Net','DT Regression','KNN Regression']\n",
    "\n",
    "# Creating a dataframe for training results\n",
    "mse_train = pd.DataFrame(mse_train,index=classifiers)  \n",
    "mse_train.columns = ['MSE_train']\n",
    "mae_train = pd.DataFrame(mae_train,index=classifiers)\n",
    "mae_train.columns = ['MAE_train']\n",
    "models_dataframe_train = pd.DataFrame.join(self = mse_train, other = mae_train, how = 'left')\n",
    "models_dataframe_train.columns=['MSE_train', 'MAE_train']\n",
    "models_dataframe_train['RMSE_train'] = models_dataframe_train['MSE_train'].apply(lambda x: x**(1/2))\n",
    "display('-----Training Performance----',models_dataframe_train,)\n",
    "\n",
    "print('\\n')\n",
    "\n",
    "# Creating a dataframe for validation results\n",
    "mse_valid = pd.DataFrame(mse_valid,index=classifiers)  \n",
    "mse_valid.columns = ['MSE_valid']\n",
    "mae_valid = pd.DataFrame(mae_valid,index=classifiers)\n",
    "mae_valid.columns = ['MAE_valid']\n",
    "models_dataframe_valid = pd.DataFrame.join(self = mse_valid, other = mae_valid, how = 'left')\n",
    "models_dataframe_valid.columns=['MSE_valid', 'MAE_valid']\n",
    "models_dataframe_valid['RMSE_valid'] = models_dataframe_valid['MSE_valid'].apply(lambda x: x**(1/2))\n",
    "display('-----Validation Performance----',models_dataframe_valid)"
   ]
  },
  {
   "cell_type": "markdown",
   "metadata": {},
   "source": [
    "Observations from the above table:\n",
    " - `Linear Regression` and `Elastic Net` have similar behavior.\n",
    " - In `Decision Tree Regression`, the validation **RMSE** is high; although **MAE** value is the lowest.\n",
    " - For `KNN Regression`, the training error is low. However the validation metrics are higher than the other models."
   ]
  },
  {
   "cell_type": "markdown",
   "metadata": {},
   "source": [
    "<div class=\"alert alert-block alert-info\"><b> \n",
    "    \n",
    "   - There are possibilities that using **Standardized dataset**, the performance metrics may increase.\n",
    "   - For this, we only have to change the attribute `scale = True` in `model_buildling`.\n",
    "\n",
    "</b></div>"
   ]
  },
  {
   "cell_type": "code",
   "execution_count": 20,
   "metadata": {},
   "outputs": [
    {
     "name": "stdout",
     "output_type": "stream",
     "text": [
      "===================================================================\n",
      "\t\t\t LinearRegression \n",
      "===================================================================\n",
      "\n",
      "{'normalize': False} \n",
      "\n",
      "\n",
      "===================================================================\n",
      "\t\t\t ElasticNet \n",
      "===================================================================\n",
      "\n",
      "{'alpha': 0.1, 'l1_ratio': 0.5} \n",
      "\n",
      "\n",
      "===================================================================\n",
      "\t\t\t DecisionTreeRegressor \n",
      "===================================================================\n",
      "\n",
      "{'criterion': 'mse', 'splitter': 'random'} \n",
      "\n",
      "\n",
      "===================================================================\n",
      "\t\t\t KNeighborsRegressor \n",
      "===================================================================\n",
      "\n",
      "{'algorithm': 'auto', 'n_neighbors': 9} \n",
      "\n",
      "\n"
     ]
    }
   ],
   "source": [
    "\n",
    "mse_train_SC = []\n",
    "mae_train_SC = []\n",
    "mse_valid_SC = []\n",
    "mae_valid_SC = []\n",
    "parameters = [(LinearRegression(), {'normalize':[False, True]}),\n",
    "             \n",
    "              (ElasticNet(), {'alpha' : [0.1, 0.5, 1],\n",
    "                            'l1_ratio' : [0, 0.5, 1]}),\n",
    "              \n",
    "             (DecisionTreeRegressor(), {'criterion' : ['mse','mae'],\n",
    "                                       'splitter' : ['best', 'random']}),\n",
    "             (KNeighborsRegressor(), {'n_neighbors' : range(1,11,2),\n",
    "                                     'algorithm' : ['auto', 'brute']})]\n",
    "\n",
    "for models, parameter in parameters :\n",
    "    \n",
    "    model_cv, model, pred_train_SC, pred_valid_SC, pred_test_SC = model_building(models, parameters = parameter, cv = 5, scale = True)\n",
    "    \n",
    "    print('===================================================================\\n\\t\\t\\t',\n",
    "          type(models).__name__,\n",
    "          '\\n===================================================================\\n')\n",
    "    \n",
    "    print(model_cv.best_params_, '\\n\\n')\n",
    "    mse_train_SC.append(mean_squared_error(y_true = y_train, y_pred = pred_train_SC))\n",
    "    mae_train_SC.append(mean_absolute_error(y_true = y_train, y_pred = pred_train_SC))\n",
    "    \n",
    "    mse_valid_SC.append(mean_squared_error(y_true = y_valid, y_pred = pred_valid_SC))\n",
    "    mae_valid_SC.append(mean_absolute_error(y_true = y_valid, y_pred = pred_valid_SC))\n"
   ]
  },
  {
   "cell_type": "code",
   "execution_count": 31,
   "metadata": {},
   "outputs": [
    {
     "data": {
      "text/plain": [
       "'-----Training Performance---'"
      ]
     },
     "metadata": {},
     "output_type": "display_data"
    },
    {
     "data": {
      "text/html": [
       "<div>\n",
       "<style scoped>\n",
       "    .dataframe tbody tr th:only-of-type {\n",
       "        vertical-align: middle;\n",
       "    }\n",
       "\n",
       "    .dataframe tbody tr th {\n",
       "        vertical-align: top;\n",
       "    }\n",
       "\n",
       "    .dataframe thead th {\n",
       "        text-align: right;\n",
       "    }\n",
       "</style>\n",
       "<table border=\"1\" class=\"dataframe\">\n",
       "  <thead>\n",
       "    <tr style=\"text-align: right;\">\n",
       "      <th></th>\n",
       "      <th>MSE_train_SC</th>\n",
       "      <th>MAE_train_SC</th>\n",
       "      <th>RMSE_train_SC</th>\n",
       "    </tr>\n",
       "  </thead>\n",
       "  <tbody>\n",
       "    <tr>\n",
       "      <td>Linear Regression</td>\n",
       "      <td>1.657519e+07</td>\n",
       "      <td>2247.918741</td>\n",
       "      <td>4071.264371</td>\n",
       "    </tr>\n",
       "    <tr>\n",
       "      <td>Elastic Net</td>\n",
       "      <td>1.661538e+07</td>\n",
       "      <td>2195.000961</td>\n",
       "      <td>4076.196740</td>\n",
       "    </tr>\n",
       "    <tr>\n",
       "      <td>DT Regression</td>\n",
       "      <td>2.828575e-02</td>\n",
       "      <td>0.002871</td>\n",
       "      <td>0.168184</td>\n",
       "    </tr>\n",
       "    <tr>\n",
       "      <td>KNN Regression</td>\n",
       "      <td>3.080705e+07</td>\n",
       "      <td>3390.267084</td>\n",
       "      <td>5550.409674</td>\n",
       "    </tr>\n",
       "  </tbody>\n",
       "</table>\n",
       "</div>"
      ],
      "text/plain": [
       "                   MSE_train_SC  MAE_train_SC  RMSE_train_SC\n",
       "Linear Regression  1.657519e+07   2247.918741    4071.264371\n",
       "Elastic Net        1.661538e+07   2195.000961    4076.196740\n",
       "DT Regression      2.828575e-02      0.002871       0.168184\n",
       "KNN Regression     3.080705e+07   3390.267084    5550.409674"
      ]
     },
     "metadata": {},
     "output_type": "display_data"
    },
    {
     "name": "stdout",
     "output_type": "stream",
     "text": [
      "\n",
      "\n"
     ]
    },
    {
     "data": {
      "text/plain": [
       "'-----Validation Performance----'"
      ]
     },
     "metadata": {},
     "output_type": "display_data"
    },
    {
     "data": {
      "text/html": [
       "<div>\n",
       "<style scoped>\n",
       "    .dataframe tbody tr th:only-of-type {\n",
       "        vertical-align: middle;\n",
       "    }\n",
       "\n",
       "    .dataframe tbody tr th {\n",
       "        vertical-align: top;\n",
       "    }\n",
       "\n",
       "    .dataframe thead th {\n",
       "        text-align: right;\n",
       "    }\n",
       "</style>\n",
       "<table border=\"1\" class=\"dataframe\">\n",
       "  <thead>\n",
       "    <tr style=\"text-align: right;\">\n",
       "      <th></th>\n",
       "      <th>MSE_valid_SC</th>\n",
       "      <th>MAE_valid_SC</th>\n",
       "      <th>RMSE_valid</th>\n",
       "    </tr>\n",
       "  </thead>\n",
       "  <tbody>\n",
       "    <tr>\n",
       "      <td>Linear Regression</td>\n",
       "      <td>2.115167e+07</td>\n",
       "      <td>2398.329827</td>\n",
       "      <td>4599.094807</td>\n",
       "    </tr>\n",
       "    <tr>\n",
       "      <td>Elastic Net</td>\n",
       "      <td>2.127874e+07</td>\n",
       "      <td>2351.695308</td>\n",
       "      <td>4612.888657</td>\n",
       "    </tr>\n",
       "    <tr>\n",
       "      <td>DT Regression</td>\n",
       "      <td>3.131867e+07</td>\n",
       "      <td>2111.492728</td>\n",
       "      <td>5596.308891</td>\n",
       "    </tr>\n",
       "    <tr>\n",
       "      <td>KNN Regression</td>\n",
       "      <td>4.494889e+07</td>\n",
       "      <td>3900.545439</td>\n",
       "      <td>6704.393115</td>\n",
       "    </tr>\n",
       "  </tbody>\n",
       "</table>\n",
       "</div>"
      ],
      "text/plain": [
       "                   MSE_valid_SC  MAE_valid_SC   RMSE_valid\n",
       "Linear Regression  2.115167e+07   2398.329827  4599.094807\n",
       "Elastic Net        2.127874e+07   2351.695308  4612.888657\n",
       "DT Regression      3.131867e+07   2111.492728  5596.308891\n",
       "KNN Regression     4.494889e+07   3900.545439  6704.393115"
      ]
     },
     "metadata": {},
     "output_type": "display_data"
    }
   ],
   "source": [
    "classifiers=['Linear Regression','Elastic Net','DT Regression','KNN Regression']\n",
    "# models = [LinearRegression(), ElasticNet(),DecisionTreeRegressor(),KNeighborsRegressor(n_neighbors=3)]\n",
    "\n",
    "\n",
    "# Creating a dataframe for training results\n",
    "mse_train_SC = pd.DataFrame(mse_train_SC,index=classifiers)  \n",
    "mse_train_SC.columns = ['MSE_train_SC']\n",
    "mae_train_SC = pd.DataFrame(mae_train_SC,index=classifiers)\n",
    "mae_train.columns = ['MAE_train_SC']\n",
    "models_dataframe_train_SC = pd.DataFrame.join(self = mse_train_SC, other = mae_train_SC, how = 'left')\n",
    "models_dataframe_train_SC.columns=['MSE_train_SC', 'MAE_train_SC']\n",
    "models_dataframe_train_SC['RMSE_train_SC'] = models_dataframe_train_SC['MSE_train_SC'].apply(lambda x: x**(1/2))\n",
    "display('-----Training Performance---',models_dataframe_train_SC)\n",
    "\n",
    "print('\\n')\n",
    "\n",
    "# Creating a dataframe for validation results\n",
    "mse_valid_SC = pd.DataFrame(mse_valid_SC,index=classifiers)  \n",
    "mse_valid_SC.columns = ['MSE_valid_SC']\n",
    "mae_valid_SC = pd.DataFrame(mae_valid_SC,index=classifiers)\n",
    "mae_valid_SC.columns = ['MAE_valid_SC']\n",
    "models_dataframe_valid_SC = pd.DataFrame.join(self = mse_valid_SC, other = mae_valid_SC, how = 'left')\n",
    "models_dataframe_valid_SC.columns=['MSE_valid_SC', 'MAE_valid_SC']\n",
    "models_dataframe_valid_SC['RMSE_valid'] = models_dataframe_valid_SC['MSE_valid_SC'].apply(lambda x: x**(1/2))\n",
    "display('-----Validation Performance----',models_dataframe_valid_SC)"
   ]
  },
  {
   "cell_type": "markdown",
   "metadata": {},
   "source": [
    "Comparing the `Standardized Performance Metrics` with `Non-Standardized Performance Metrics`, the following are the observations:\n",
    " - `Linear Regression` adnd `Elastic Net` performance has not changed significantly.\n",
    " - `Decision Tree Regression` metric changes are also not too significant.\n",
    " - `KNN Regression` has increased errors, both in training and validation set."
   ]
  },
  {
   "cell_type": "markdown",
   "metadata": {},
   "source": [
    "### Hence, `Standardizing` the data does not guarantee better performance."
   ]
  },
  {
   "attachments": {
    "ensemble.png": {
     "image/png": "[encoded data removed]"
    }
   },
   "cell_type": "markdown",
   "metadata": {},
   "source": [
    "# Ensemble Models\n",
    "\n",
    "An ensemble is a composite model, combines a series of low performing classifiers with the aim of creating an improved classifier. Ensembles offer more accuracy than individual or base classifier. Ensemble methods can parallelize by allocating each base learner to different-different machines.\n",
    "\n",
    "![ensemble.png](attachment:ensemble.png)\n",
    "\n",
    "Ensemble methods can decrease variance using bagging approach, bias using a boosting approach, or improve predictions using stacking approach:\n",
    " - Bagging stands for bootstrap aggregation. It combines multiple learners in a way to reduce the variance of estimates.\n",
    " - Boosting algorithms are a set of the low accurate classifier to create a highly accurate classifier.\n",
    " - Stacking is an ensemble learning technique that combines multiple base classification models predictions into a new data set.\n",
    " \n",
    "Ref : https://www.datacamp.com/community/tutorials/adaboost-classifier-python"
   ]
  },
  {
   "cell_type": "markdown",
   "metadata": {},
   "source": [
    "## AdaBoost Regressor"
   ]
  },
  {
   "cell_type": "markdown",
   "metadata": {},
   "source": [
    "It can be used in conjunction with many other types of learning algorithms to improve performance. The output of the other learning algorithms ('weak learners') is combined into a weighted sum that represents the final output of the boosted classifier. \n",
    "\n",
    "Pros:\n",
    " - AdaBoost is easy to implement. It iteratively corrects the mistakes of the weak classifier and improves accuracy by combining weak learners. \n",
    "\n",
    "Cons: \n",
    "- AdaBoost is sensitive to noise data. It is highly affected by outliers because it tries to fit each point perfectly.\n",
    "\n",
    "Ref : https://www.datacamp.com/community/tutorials/adaboost-classifier-python"
   ]
  },
  {
   "cell_type": "code",
   "execution_count": 22,
   "metadata": {},
   "outputs": [],
   "source": [
    "from sklearn.ensemble import AdaBoostRegressor\n",
    "\n",
    "adr = AdaBoostRegressor()\n",
    "\n",
    "parameters = {'n_estimators' : [7 ,15, 20, 25], \n",
    "              'learning_rate' : [0.1,0.2, 0.3],\n",
    "              'loss': ['linear', 'square', 'exponential']}\n",
    "adr = AdaBoostRegressor()\n",
    "\n",
    "model_cv, model_adr, pred_train_adr, pred_valid_adr, pred_test_adr = model_building(adr, parameters = parameters, cv = 5, scale = False)#, scale=True)"
   ]
  },
  {
   "cell_type": "code",
   "execution_count": null,
   "metadata": {
    "scrolled": true
   },
   "outputs": [],
   "source": [
    "print('Train MSE:',mean_squared_error(y_true = y_train, y_pred = pred_train_adr))\n",
    "print('Train MAE:',mean_absolute_error(y_true = y_train, y_pred = pred_train_adr))\n",
    "print('Train RMSE:',mean_squared_error(y_true = y_train, y_pred = pred_train_adr)**0.5)\n",
    "print('\\n')\n",
    "print('Validation MSE: ',mean_squared_error(y_true = y_valid, y_pred = pred_valid_adr))\n",
    "print('Validation MAE: ',mean_absolute_error(y_true = y_valid, y_pred = pred_valid_adr))\n",
    "print('Validation RMSE:',mean_squared_error(y_true = y_valid, y_pred = pred_valid_adr)**0.5)"
   ]
  },
  {
   "cell_type": "code",
   "execution_count": null,
   "metadata": {
    "scrolled": false
   },
   "outputs": [],
   "source": [
    "print(model_cv.best_estimator_)"
   ]
  },
  {
   "cell_type": "markdown",
   "metadata": {},
   "source": [
    "Compared to all the other ensemble models made above, AdaBoost Regressor has relative train-validation errors. The combination of weak learners helped to improve the performance metrics.\n",
    "\n",
    "Hence, this is the reason why we selected AdaBoost for oour regression problem."
   ]
  },
  {
   "cell_type": "markdown",
   "metadata": {},
   "source": [
    "___"
   ]
  },
  {
   "cell_type": "code",
   "execution_count": 25,
   "metadata": {},
   "outputs": [],
   "source": [
    "ADRMSE_train = mean_squared_error(y_true = y_train, y_pred = pred_train_adr)\n",
    "ADRRMSE_train = np.sqrt(mean_squared_error(y_true = y_train, y_pred = pred_train_adr))\n",
    "ADRMAE_train = mean_absolute_error(y_true = y_train, y_pred = pred_train_adr)\n",
    "\n",
    "ADRMSE_valid = mean_squared_error(y_true = y_valid, y_pred = pred_valid_adr)\n",
    "ADRRMSE_valid = np.sqrt(mean_squared_error(y_true = y_valid, y_pred = pred_valid_adr))\n",
    "ADRMAE_valid = mean_absolute_error(y_true = y_valid, y_pred = pred_valid_adr)\n",
    "ADRRScores = [ADRMSE_train, ADRRMSE_train, ADRMAE_train,\n",
    "              ADRMSE_valid, ADRRMSE_valid, ADRMAE_valid]\n",
    "\n",
    "ADR = pd.DataFrame(ADRRScores, index=['Train MSE', 'Train RMSE', 'Train MAE',\n",
    "                                      'Validation MSE','Validation RMSE','Validation MAE'],\n",
    "                  columns = ['AdaBoost Regression'])\n",
    "\n",
    "AD = ADR.T"
   ]
  },
  {
   "cell_type": "code",
   "execution_count": 26,
   "metadata": {},
   "outputs": [
    {
     "data": {
      "text/html": [
       "<div>\n",
       "<style scoped>\n",
       "    .dataframe tbody tr th:only-of-type {\n",
       "        vertical-align: middle;\n",
       "    }\n",
       "\n",
       "    .dataframe tbody tr th {\n",
       "        vertical-align: top;\n",
       "    }\n",
       "\n",
       "    .dataframe thead th {\n",
       "        text-align: right;\n",
       "    }\n",
       "</style>\n",
       "<table border=\"1\" class=\"dataframe\">\n",
       "  <thead>\n",
       "    <tr style=\"text-align: right;\">\n",
       "      <th></th>\n",
       "      <th>Train MSE</th>\n",
       "      <th>Train RMSE</th>\n",
       "      <th>Train MAE</th>\n",
       "      <th>Validation MSE</th>\n",
       "      <th>Validation RMSE</th>\n",
       "      <th>Validation MAE</th>\n",
       "    </tr>\n",
       "  </thead>\n",
       "  <tbody>\n",
       "    <tr>\n",
       "      <td>AdaBoost Regression</td>\n",
       "      <td>1.882349e+07</td>\n",
       "      <td>4338.605055</td>\n",
       "      <td>2672.447143</td>\n",
       "      <td>2.372999e+07</td>\n",
       "      <td>4871.343486</td>\n",
       "      <td>2818.257534</td>\n",
       "    </tr>\n",
       "  </tbody>\n",
       "</table>\n",
       "</div>"
      ],
      "text/plain": [
       "                        Train MSE   Train RMSE    Train MAE  Validation MSE  \\\n",
       "AdaBoost Regression  1.882349e+07  4338.605055  2672.447143    2.372999e+07   \n",
       "\n",
       "                     Validation RMSE  Validation MAE  \n",
       "AdaBoost Regression      4871.343486     2818.257534  "
      ]
     },
     "execution_count": 26,
     "metadata": {},
     "output_type": "execute_result"
    }
   ],
   "source": [
    "AD"
   ]
  },
  {
   "cell_type": "markdown",
   "metadata": {},
   "source": [
    "## Exporting the predicted values"
   ]
  },
  {
   "cell_type": "code",
   "execution_count": 27,
   "metadata": {},
   "outputs": [
    {
     "data": {
      "text/html": [
       "<div>\n",
       "<style scoped>\n",
       "    .dataframe tbody tr th:only-of-type {\n",
       "        vertical-align: middle;\n",
       "    }\n",
       "\n",
       "    .dataframe tbody tr th {\n",
       "        vertical-align: top;\n",
       "    }\n",
       "\n",
       "    .dataframe thead th {\n",
       "        text-align: right;\n",
       "    }\n",
       "</style>\n",
       "<table border=\"1\" class=\"dataframe\">\n",
       "  <thead>\n",
       "    <tr style=\"text-align: right;\">\n",
       "      <th></th>\n",
       "      <th>Customer.Lifetime.Value</th>\n",
       "    </tr>\n",
       "  </thead>\n",
       "  <tbody>\n",
       "    <tr>\n",
       "      <td>0</td>\n",
       "      <td>6920.572973</td>\n",
       "    </tr>\n",
       "    <tr>\n",
       "      <td>1</td>\n",
       "      <td>6920.572973</td>\n",
       "    </tr>\n",
       "    <tr>\n",
       "      <td>2</td>\n",
       "      <td>6920.572973</td>\n",
       "    </tr>\n",
       "    <tr>\n",
       "      <td>3</td>\n",
       "      <td>6920.572973</td>\n",
       "    </tr>\n",
       "    <tr>\n",
       "      <td>4</td>\n",
       "      <td>6920.572973</td>\n",
       "    </tr>\n",
       "    <tr>\n",
       "      <td>...</td>\n",
       "      <td>...</td>\n",
       "    </tr>\n",
       "    <tr>\n",
       "      <td>1762</td>\n",
       "      <td>6950.029596</td>\n",
       "    </tr>\n",
       "    <tr>\n",
       "      <td>1763</td>\n",
       "      <td>6920.572973</td>\n",
       "    </tr>\n",
       "    <tr>\n",
       "      <td>1764</td>\n",
       "      <td>6986.183967</td>\n",
       "    </tr>\n",
       "    <tr>\n",
       "      <td>1765</td>\n",
       "      <td>6950.029596</td>\n",
       "    </tr>\n",
       "    <tr>\n",
       "      <td>1766</td>\n",
       "      <td>6920.572973</td>\n",
       "    </tr>\n",
       "  </tbody>\n",
       "</table>\n",
       "<p>1767 rows × 1 columns</p>\n",
       "</div>"
      ],
      "text/plain": [
       "      Customer.Lifetime.Value\n",
       "0                 6920.572973\n",
       "1                 6920.572973\n",
       "2                 6920.572973\n",
       "3                 6920.572973\n",
       "4                 6920.572973\n",
       "...                       ...\n",
       "1762              6950.029596\n",
       "1763              6920.572973\n",
       "1764              6986.183967\n",
       "1765              6950.029596\n",
       "1766              6920.572973\n",
       "\n",
       "[1767 rows x 1 columns]"
      ]
     },
     "execution_count": 27,
     "metadata": {},
     "output_type": "execute_result"
    }
   ],
   "source": [
    "pred = pd.DataFrame([pred_test_adr], index = ['Customer.Lifetime.Value'])\n",
    "pred = pred.transpose()\n",
    "pred"
   ]
  },
  {
   "cell_type": "code",
   "execution_count": 28,
   "metadata": {},
   "outputs": [],
   "source": [
    "final_test = pd.read_csv('C:\\\\Neeraj\\\\acads\\\\INSOFE\\\\STUDY MATERIAL\\\\MiTH\\\\sample_submission-1574429481138.csv')\n",
    "final_test = final_test['CustomerID']\n",
    "final_test = pd.DataFrame(final_test)"
   ]
  },
  {
   "cell_type": "code",
   "execution_count": 29,
   "metadata": {},
   "outputs": [
    {
     "data": {
      "text/html": [
       "<div>\n",
       "<style scoped>\n",
       "    .dataframe tbody tr th:only-of-type {\n",
       "        vertical-align: middle;\n",
       "    }\n",
       "\n",
       "    .dataframe tbody tr th {\n",
       "        vertical-align: top;\n",
       "    }\n",
       "\n",
       "    .dataframe thead th {\n",
       "        text-align: right;\n",
       "    }\n",
       "</style>\n",
       "<table border=\"1\" class=\"dataframe\">\n",
       "  <thead>\n",
       "    <tr style=\"text-align: right;\">\n",
       "      <th></th>\n",
       "      <th>CustomerID</th>\n",
       "      <th>Customer.Lifetime.Value</th>\n",
       "    </tr>\n",
       "  </thead>\n",
       "  <tbody>\n",
       "    <tr>\n",
       "      <td>0</td>\n",
       "      <td>14</td>\n",
       "      <td>6920.572973</td>\n",
       "    </tr>\n",
       "    <tr>\n",
       "      <td>1</td>\n",
       "      <td>20</td>\n",
       "      <td>6920.572973</td>\n",
       "    </tr>\n",
       "    <tr>\n",
       "      <td>2</td>\n",
       "      <td>21</td>\n",
       "      <td>6920.572973</td>\n",
       "    </tr>\n",
       "    <tr>\n",
       "      <td>3</td>\n",
       "      <td>23</td>\n",
       "      <td>6920.572973</td>\n",
       "    </tr>\n",
       "    <tr>\n",
       "      <td>4</td>\n",
       "      <td>24</td>\n",
       "      <td>6920.572973</td>\n",
       "    </tr>\n",
       "    <tr>\n",
       "      <td>...</td>\n",
       "      <td>...</td>\n",
       "      <td>...</td>\n",
       "    </tr>\n",
       "    <tr>\n",
       "      <td>1762</td>\n",
       "      <td>8760</td>\n",
       "      <td>6950.029596</td>\n",
       "    </tr>\n",
       "    <tr>\n",
       "      <td>1763</td>\n",
       "      <td>8768</td>\n",
       "      <td>6920.572973</td>\n",
       "    </tr>\n",
       "    <tr>\n",
       "      <td>1764</td>\n",
       "      <td>8773</td>\n",
       "      <td>6986.183967</td>\n",
       "    </tr>\n",
       "    <tr>\n",
       "      <td>1765</td>\n",
       "      <td>8775</td>\n",
       "      <td>6950.029596</td>\n",
       "    </tr>\n",
       "    <tr>\n",
       "      <td>1766</td>\n",
       "      <td>8777</td>\n",
       "      <td>6920.572973</td>\n",
       "    </tr>\n",
       "  </tbody>\n",
       "</table>\n",
       "<p>1767 rows × 2 columns</p>\n",
       "</div>"
      ],
      "text/plain": [
       "      CustomerID  Customer.Lifetime.Value\n",
       "0             14              6920.572973\n",
       "1             20              6920.572973\n",
       "2             21              6920.572973\n",
       "3             23              6920.572973\n",
       "4             24              6920.572973\n",
       "...          ...                      ...\n",
       "1762        8760              6950.029596\n",
       "1763        8768              6920.572973\n",
       "1764        8773              6986.183967\n",
       "1765        8775              6950.029596\n",
       "1766        8777              6920.572973\n",
       "\n",
       "[1767 rows x 2 columns]"
      ]
     },
     "execution_count": 29,
     "metadata": {},
     "output_type": "execute_result"
    }
   ],
   "source": [
    "# final_result = pd.concat([final_test, pred], axis = 0, )\n",
    "final_result = pd.DataFrame.join(self = final_test, other = pred, how = 'left')\n",
    "final_result"
   ]
  },
  {
   "cell_type": "code",
   "execution_count": 30,
   "metadata": {},
   "outputs": [],
   "source": [
    "predicted_values_adr = final_result.to_csv('C:\\\\Neeraj\\\\acads\\\\INSOFE\\\\STUDY MATERIAL\\\\MiTH\\\\submission(mith,adr).csv', index=None, header = True)"
   ]
  },
  {
   "cell_type": "markdown",
   "metadata": {},
   "source": [
    "___"
   ]
  }
 ],
 "metadata": {
  "kernelspec": {
   "display_name": "Python 3",
   "language": "python",
   "name": "python3"
  },
  "language_info": {
   "codemirror_mode": {
    "name": "ipython",
    "version": 3
   },
   "file_extension": ".py",
   "mimetype": "text/x-python",
   "name": "python",
   "nbconvert_exporter": "python",
   "pygments_lexer": "ipython3",
   "version": "3.7.3"
  }
 },
 "nbformat": 4,
 "nbformat_minor": 2
}
